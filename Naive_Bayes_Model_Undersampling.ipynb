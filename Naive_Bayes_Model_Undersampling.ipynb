{
  "nbformat": 4,
  "nbformat_minor": 0,
  "metadata": {
    "colab": {
      "name": "Naive_Bayes_Model_Undersampling.ipynb",
      "provenance": [],
      "collapsed_sections": []
    },
    "kernelspec": {
      "name": "python3",
      "display_name": "Python 3"
    }
  },
  "cells": [
    {
      "cell_type": "code",
      "metadata": {
        "id": "1326qYYdFSXh",
        "colab_type": "code",
        "colab": {}
      },
      "source": [
        "import numpy as np # linear algebra\n",
        "import pandas as pd # data processing, CSV file I/O (e.g. pd.read_csv)\n",
        "import seaborn as sns # for intractve graphs"
      ],
      "execution_count": 0,
      "outputs": []
    },
    {
      "cell_type": "code",
      "metadata": {
        "id": "CRRqz6ejFYxV",
        "colab_type": "code",
        "outputId": "d5b42923-7148-40c2-a114-b45146d197da",
        "colab": {
          "base_uri": "https://localhost:8080/",
          "height": 34
        }
      },
      "source": [
        "from google.colab import drive\n",
        "import os\n",
        "drive.mount('/content/drive/')\n",
        "os.chdir('/content/drive/My Drive/DA_Assignment/input/')"
      ],
      "execution_count": 0,
      "outputs": [
        {
          "output_type": "stream",
          "text": [
            "Drive already mounted at /content/drive/; to attempt to forcibly remount, call drive.mount(\"/content/drive/\", force_remount=True).\n"
          ],
          "name": "stdout"
        }
      ]
    },
    {
      "cell_type": "code",
      "metadata": {
        "id": "btTj_l-LGKEB",
        "colab_type": "code",
        "colab": {}
      },
      "source": [
        "import nltk\n",
        "from nltk.corpus import stopwords"
      ],
      "execution_count": 0,
      "outputs": []
    },
    {
      "cell_type": "code",
      "metadata": {
        "id": "A9FK6qghGZCG",
        "colab_type": "code",
        "colab": {}
      },
      "source": [
        "from sklearn.metrics import f1_score\n",
        "from sklearn.model_selection import KFold\n",
        "from sklearn.feature_extraction.text import TfidfVectorizer, CountVectorizer\n",
        "from sklearn.naive_bayes import GaussianNB,MultinomialNB,BernoulliNB"
      ],
      "execution_count": 0,
      "outputs": []
    },
    {
      "cell_type": "code",
      "metadata": {
        "id": "Zf7YahP4GchK",
        "colab_type": "code",
        "colab": {}
      },
      "source": [
        "import matplotlib.pyplot as plt\n",
        "plt.style.use(\"ggplot\")\n",
        "%matplotlib inline"
      ],
      "execution_count": 0,
      "outputs": []
    },
    {
      "cell_type": "code",
      "metadata": {
        "id": "VjhshS13Gk-Q",
        "colab_type": "code",
        "colab": {}
      },
      "source": [
        "train_data = pd.read_csv(\"train.csv\", header=0)\n",
        "test_data = pd.read_csv(\"test.csv\", header=0)"
      ],
      "execution_count": 0,
      "outputs": []
    },
    {
      "cell_type": "code",
      "metadata": {
        "id": "MwrKqX5FGosM",
        "colab_type": "code",
        "outputId": "4b782560-d4d8-46db-8d58-8184c48cbc1d",
        "colab": {
          "base_uri": "https://localhost:8080/",
          "height": 153
        }
      },
      "source": [
        "train_data.info()"
      ],
      "execution_count": 0,
      "outputs": [
        {
          "output_type": "stream",
          "text": [
            "<class 'pandas.core.frame.DataFrame'>\n",
            "RangeIndex: 1306122 entries, 0 to 1306121\n",
            "Data columns (total 3 columns):\n",
            "qid              1306122 non-null object\n",
            "question_text    1306122 non-null object\n",
            "target           1306122 non-null int64\n",
            "dtypes: int64(1), object(2)\n",
            "memory usage: 29.9+ MB\n"
          ],
          "name": "stdout"
        }
      ]
    },
    {
      "cell_type": "code",
      "metadata": {
        "id": "af5MATeuG0D_",
        "colab_type": "code",
        "outputId": "a0414581-b18f-45c4-a7fb-09a430f2e976",
        "colab": {
          "base_uri": "https://localhost:8080/",
          "height": 85
        }
      },
      "source": [
        "train_data.isnull().sum()"
      ],
      "execution_count": 0,
      "outputs": [
        {
          "output_type": "execute_result",
          "data": {
            "text/plain": [
              "qid              0\n",
              "question_text    0\n",
              "target           0\n",
              "dtype: int64"
            ]
          },
          "metadata": {
            "tags": []
          },
          "execution_count": 10
        }
      ]
    },
    {
      "cell_type": "code",
      "metadata": {
        "id": "BM3KRi3GG3U1",
        "colab_type": "code",
        "outputId": "7aa90f1b-585e-4249-d75a-09795060ca5d",
        "colab": {
          "base_uri": "https://localhost:8080/",
          "height": 332
        }
      },
      "source": [
        "sns.countplot(\"target\",data=train_data)"
      ],
      "execution_count": 0,
      "outputs": [
        {
          "output_type": "stream",
          "text": [
            "/usr/local/lib/python3.6/dist-packages/seaborn/categorical.py:1428: FutureWarning: remove_na is deprecated and is a private function. Do not use.\n",
            "  stat_data = remove_na(group_data)\n"
          ],
          "name": "stderr"
        },
        {
          "output_type": "execute_result",
          "data": {
            "text/plain": [
              "<matplotlib.axes._subplots.AxesSubplot at 0x7f47d42695f8>"
            ]
          },
          "metadata": {
            "tags": []
          },
          "execution_count": 11
        },
        {
          "output_type": "display_data",
          "data": {
            "image/png": "[encoded data removed]",
            "text/plain": [
              "<Figure size 432x288 with 1 Axes>"
            ]
          },
          "metadata": {
            "tags": []
          }
        }
      ]
    },
    {
      "cell_type": "code",
      "metadata": {
        "id": "g5UVEcTRG8IJ",
        "colab_type": "code",
        "outputId": "49805f9c-5356-4359-842e-5908f206f7ea",
        "colab": {
          "base_uri": "https://localhost:8080/",
          "height": 51
        }
      },
      "source": [
        "# now let us check in the number of Percentage\n",
        "Count_Sincere_Questions = len(train_data[train_data[\"target\"]==0]) \n",
        "Count_Insincere_Questions = len(train_data[train_data[\"target\"]==1]) \n",
        "Percentage_of_Sincere_Questions = Count_Sincere_Questions/(Count_Sincere_Questions+Count_Insincere_Questions)\n",
        "print(\"percentage of Sincere Questions is\",Percentage_of_Sincere_Questions*100)\n",
        "Percentage_of_Insincere_Questions= Count_Insincere_Questions/(Count_Sincere_Questions+Count_Insincere_Questions)\n",
        "print(\"percentage of Insincere Questions\",Percentage_of_Insincere_Questions*100)"
      ],
      "execution_count": 0,
      "outputs": [
        {
          "output_type": "stream",
          "text": [
            "percentage of Sincere Questions is 93.81298224821265\n",
            "percentage of Insincere Questions 6.187017751787352\n"
          ],
          "name": "stdout"
        }
      ]
    },
    {
      "cell_type": "code",
      "metadata": {
        "id": "Znz2CWx7HBtF",
        "colab_type": "code",
        "colab": {}
      },
      "source": [
        "insincere_indices= np.array(train_data[train_data.target==1].index)\n",
        "normal_indices = np.array(train_data[train_data.target==0].index)\n",
        "#now let us a define a function for make undersample data with different proportion\n",
        "#different proportion means with different proportion of normal classes of data\n",
        "def undersample(normal_indices,insincere_indices,times):#times denote the Sincere_Data = times*Insincere_Data\n",
        "    Normal_indices_undersample = np.array(np.random.choice(normal_indices,(times*Count_Insincere_Questions),replace=False))\n",
        "    print(len(Normal_indices_undersample))\n",
        "    undersample_data= np.concatenate([insincere_indices,Normal_indices_undersample])\n",
        "\n",
        "    undersample_data = train_data.iloc[undersample_data,:]\n",
        "    #print(undersample_data)\n",
        "    print(len(undersample_data))\n",
        "\n",
        "    print(\"the sincere questions proportion is :\",len(undersample_data[undersample_data.target==0])/len(undersample_data))\n",
        "    print(\"the insincere questions proportion is :\",len(undersample_data[undersample_data.target==1])/len(undersample_data))\n",
        "    print(\"total number of record in resampled data is:\",len(undersample_data))\n",
        "    return(undersample_data)"
      ],
      "execution_count": 0,
      "outputs": []
    },
    {
      "cell_type": "code",
      "metadata": {
        "id": "CsYDTh64HG9j",
        "colab_type": "code",
        "outputId": "07ec2d50-8598-41d1-b831-c652d88b27a3",
        "colab": {
          "base_uri": "https://localhost:8080/",
          "height": 102
        }
      },
      "source": [
        "Undersample_data = undersample(normal_indices,insincere_indices,4)"
      ],
      "execution_count": 0,
      "outputs": [
        {
          "output_type": "stream",
          "text": [
            "323240\n",
            "404050\n",
            "the sincere questions proportion is : 0.8\n",
            "the insincere questions proportion is : 0.2\n",
            "total number of record in resampled data is: 404050\n"
          ],
          "name": "stdout"
        }
      ]
    },
    {
      "cell_type": "code",
      "metadata": {
        "id": "15QV6Ui7HPRM",
        "colab_type": "code",
        "outputId": "56011134-e328-445d-e643-c47e708b3765",
        "colab": {
          "base_uri": "https://localhost:8080/",
          "height": 153
        }
      },
      "source": [
        "Undersample_data.info()"
      ],
      "execution_count": 0,
      "outputs": [
        {
          "output_type": "stream",
          "text": [
            "<class 'pandas.core.frame.DataFrame'>\n",
            "Int64Index: 404050 entries, 22 to 942465\n",
            "Data columns (total 3 columns):\n",
            "qid              404050 non-null object\n",
            "question_text    404050 non-null object\n",
            "target           404050 non-null int64\n",
            "dtypes: int64(1), object(2)\n",
            "memory usage: 12.3+ MB\n"
          ],
          "name": "stdout"
        }
      ]
    },
    {
      "cell_type": "code",
      "metadata": {
        "id": "U_Udt-RBHUjj",
        "colab_type": "code",
        "colab": {}
      },
      "source": [
        "Undersample_data = Undersample_data.reset_index()\n",
        "train_text = Undersample_data['question_text']\n",
        "test_text = test_data['question_text']\n",
        "train_target = Undersample_data['target']\n",
        "all_text = train_text.append(test_text)"
      ],
      "execution_count": 0,
      "outputs": []
    },
    {
      "cell_type": "code",
      "metadata": {
        "id": "JUdS4BKzHaty",
        "colab_type": "code",
        "colab": {}
      },
      "source": [
        "#fit and transform\n",
        "\n",
        "tfidf_vectorizer = TfidfVectorizer()\n",
        "tfidf_vectorizer.fit(all_text)\n",
        "\n",
        "count_vectorizer = CountVectorizer()\n",
        "count_vectorizer.fit(all_text)\n",
        "\n",
        "train_text_features_cv = count_vectorizer.transform(train_text)\n",
        "test_text_features_cv = count_vectorizer.transform(test_text)\n",
        "\n",
        "train_text_features_tf = tfidf_vectorizer.transform(train_text)\n",
        "test_text_features_tf = tfidf_vectorizer.transform(test_text)"
      ],
      "execution_count": 0,
      "outputs": []
    },
    {
      "cell_type": "code",
      "metadata": {
        "id": "TF0FFxPBU7bF",
        "colab_type": "code",
        "outputId": "f7f0313c-3199-4e8a-b213-f34dc8a88c2d",
        "colab": {
          "base_uri": "https://localhost:8080/",
          "height": 34
        }
      },
      "source": [
        "type(Undersample_data)"
      ],
      "execution_count": 0,
      "outputs": [
        {
          "output_type": "execute_result",
          "data": {
            "text/plain": [
              "pandas.core.frame.DataFrame"
            ]
          },
          "metadata": {
            "tags": []
          },
          "execution_count": 18
        }
      ]
    },
    {
      "cell_type": "code",
      "metadata": {
        "id": "3DY4t9OjHe3b",
        "colab_type": "code",
        "outputId": "2e30c6e8-8939-4a91-9dc4-9b76ffebb7e5",
        "colab": {
          "base_uri": "https://localhost:8080/",
          "height": 357
        }
      },
      "source": [
        "kfold = KFold(n_splits = 5, shuffle = True, random_state = 2018)\n",
        "test_preds1 = 0\n",
        "oof_preds1 = np.zeros([Undersample_data.shape[0],])\n",
        "test_preds2 = 0\n",
        "oof_preds2 = np.zeros([Undersample_data.shape[0],])\n",
        "\n",
        "\n",
        "\n",
        "for i, (train_idx, valid_idx) in enumerate(kfold.split(Undersample_data)):\n",
        "    x_train, x_valid = train_text_features_cv[train_idx,:],train_text_features_cv[valid_idx,:]\n",
        "    y_train, y_valid = train_target[train_idx], train_target[valid_idx]\n",
        "    classifier1 = MultinomialNB()\n",
        "    classifier2 = BernoulliNB()\n",
        "    print('fitting.......')\n",
        "    classifier1.fit(x_train,y_train)\n",
        "    classifier2.fit(x_train,y_train)\n",
        "    print('predicting......')\n",
        "    print('\\n')\n",
        "    \n",
        "    oof_preds1[valid_idx] = classifier1.predict_proba(x_valid)[:,1]\n",
        "    test_preds1 += 0.2*classifier1.predict_proba(test_text_features_cv)[:,1]\n",
        "    oof_preds2[valid_idx] = classifier2.predict_proba(x_valid)[:,1]\n",
        "    test_preds2 += 0.2*classifier2.predict_proba(test_text_features_cv)[:,1]"
      ],
      "execution_count": 0,
      "outputs": [
        {
          "output_type": "stream",
          "text": [
            "fitting.......\n",
            "predicting......\n",
            "\n",
            "\n",
            "fitting.......\n",
            "predicting......\n",
            "\n",
            "\n",
            "fitting.......\n",
            "predicting......\n",
            "\n",
            "\n",
            "fitting.......\n",
            "predicting......\n",
            "\n",
            "\n",
            "fitting.......\n",
            "predicting......\n",
            "\n",
            "\n"
          ],
          "name": "stdout"
        }
      ]
    },
    {
      "cell_type": "code",
      "metadata": {
        "id": "TaUHiHHlHpdT",
        "colab_type": "code",
        "outputId": "9614c7ca-0154-400a-82bf-cdae296a14f6",
        "colab": {
          "base_uri": "https://localhost:8080/",
          "height": 34
        }
      },
      "source": [
        "pred_train = (oof_preds1 > .3).astype(np.int)\n",
        "f1_score(train_target, pred_train)"
      ],
      "execution_count": 0,
      "outputs": [
        {
          "output_type": "execute_result",
          "data": {
            "text/plain": [
              "0.7259731194928286"
            ]
          },
          "metadata": {
            "tags": []
          },
          "execution_count": 20
        }
      ]
    },
    {
      "cell_type": "code",
      "metadata": {
        "id": "Igjx2eXWYE-u",
        "colab_type": "code",
        "outputId": "07e0530f-96bb-4927-efba-21da5c04ef5d",
        "colab": {
          "base_uri": "https://localhost:8080/",
          "height": 34
        }
      },
      "source": [
        "pred_train = (oof_preds2 > .3).astype(np.int)\n",
        "f1_score(train_target, pred_train)"
      ],
      "execution_count": 0,
      "outputs": [
        {
          "output_type": "execute_result",
          "data": {
            "text/plain": [
              "0.726945943787016"
            ]
          },
          "metadata": {
            "tags": []
          },
          "execution_count": 21
        }
      ]
    }
  ]
}