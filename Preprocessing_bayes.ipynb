{
  "nbformat": 4,
  "nbformat_minor": 0,
  "metadata": {
    "colab": {
      "name": "Preprocessing_bayes.ipynb",
      "provenance": [],
      "collapsed_sections": []
    },
    "kernelspec": {
      "name": "python3",
      "display_name": "Python 3"
    }
  },
  "cells": [
    {
      "cell_type": "code",
      "metadata": {
        "id": "1326qYYdFSXh",
        "colab_type": "code",
        "colab": {}
      },
      "source": [
        "import numpy as np # linear algebra\n",
        "import pandas as pd # data processing, CSV file I/O (e.g. pd.read_csv)\n",
        "import seaborn as sns # for intractve graphs"
      ],
      "execution_count": 0,
      "outputs": []
    },
    {
      "cell_type": "code",
      "metadata": {
        "id": "CRRqz6ejFYxV",
        "colab_type": "code",
        "outputId": "1dc661cb-1a96-479e-c4ce-ee93adba02dc",
        "colab": {
          "base_uri": "https://localhost:8080/",
          "height": 122
        }
      },
      "source": [
        "from google.colab import drive\n",
        "import os\n",
        "drive.mount('/content/drive/')\n",
        "os.chdir('/content/drive/My Drive/DA_Assignment/input/')"
      ],
      "execution_count": 0,
      "outputs": [
        {
          "output_type": "stream",
          "text": [
            "Go to this URL in a browser: https://accounts.google.com/o/oauth2/auth?client_id=947318989803-6bn6qk8qdgf4n4g3pfee6491hc0brc4i.apps.googleusercontent.com&redirect_uri=urn%3Aietf%3Awg%3Aoauth%3A2.0%3Aoob&scope=email%20https%3A%2F%2Fwww.googleapis.com%2Fauth%2Fdocs.test%20https%3A%2F%2Fwww.googleapis.com%2Fauth%2Fdrive%20https%3A%2F%2Fwww.googleapis.com%2Fauth%2Fdrive.photos.readonly%20https%3A%2F%2Fwww.googleapis.com%2Fauth%2Fpeopleapi.readonly&response_type=code\n",
            "\n",
            "Enter your authorization code:\n",
            "··········\n",
            "Mounted at /content/drive/\n"
          ],
          "name": "stdout"
        }
      ]
    },
    {
      "cell_type": "code",
      "metadata": {
        "id": "btTj_l-LGKEB",
        "colab_type": "code",
        "colab": {}
      },
      "source": [
        "import nltk\n",
        "from nltk.corpus import stopwords"
      ],
      "execution_count": 0,
      "outputs": []
    },
    {
      "cell_type": "code",
      "metadata": {
        "id": "A9FK6qghGZCG",
        "colab_type": "code",
        "colab": {}
      },
      "source": [
        "from sklearn.metrics import f1_score\n",
        "from sklearn.model_selection import KFold\n",
        "from sklearn.feature_extraction.text import TfidfVectorizer, CountVectorizer\n",
        "from sklearn.naive_bayes import GaussianNB,MultinomialNB,BernoulliNB"
      ],
      "execution_count": 0,
      "outputs": []
    },
    {
      "cell_type": "code",
      "metadata": {
        "id": "Zf7YahP4GchK",
        "colab_type": "code",
        "colab": {}
      },
      "source": [
        "import matplotlib.pyplot as plt\n",
        "plt.style.use(\"ggplot\")\n",
        "%matplotlib inline"
      ],
      "execution_count": 0,
      "outputs": []
    },
    {
      "cell_type": "code",
      "metadata": {
        "id": "VjhshS13Gk-Q",
        "colab_type": "code",
        "colab": {}
      },
      "source": [
        "train_data = pd.read_csv(\"../input/train.csv\", header=0)\n",
        "test_data = pd.read_csv(\"../input/test.csv\", header=0)"
      ],
      "execution_count": 0,
      "outputs": []
    },
    {
      "cell_type": "code",
      "metadata": {
        "id": "MwrKqX5FGosM",
        "colab_type": "code",
        "outputId": "90265b50-ea66-4510-c185-ab12b97100af",
        "colab": {
          "base_uri": "https://localhost:8080/",
          "height": 153
        }
      },
      "source": [
        "train_data.info()"
      ],
      "execution_count": 0,
      "outputs": [
        {
          "output_type": "stream",
          "text": [
            "<class 'pandas.core.frame.DataFrame'>\n",
            "RangeIndex: 1306122 entries, 0 to 1306121\n",
            "Data columns (total 3 columns):\n",
            "qid              1306122 non-null object\n",
            "question_text    1306122 non-null object\n",
            "target           1306122 non-null int64\n",
            "dtypes: int64(1), object(2)\n",
            "memory usage: 29.9+ MB\n"
          ],
          "name": "stdout"
        }
      ]
    },
    {
      "cell_type": "code",
      "metadata": {
        "id": "af5MATeuG0D_",
        "colab_type": "code",
        "outputId": "d649a3dd-dba4-4daf-ebdf-5f605f848f22",
        "colab": {
          "base_uri": "https://localhost:8080/",
          "height": 85
        }
      },
      "source": [
        "train_data.isnull().sum()"
      ],
      "execution_count": 0,
      "outputs": [
        {
          "output_type": "execute_result",
          "data": {
            "text/plain": [
              "qid              0\n",
              "question_text    0\n",
              "target           0\n",
              "dtype: int64"
            ]
          },
          "metadata": {
            "tags": []
          },
          "execution_count": 8
        }
      ]
    },
    {
      "cell_type": "code",
      "metadata": {
        "id": "BM3KRi3GG3U1",
        "colab_type": "code",
        "outputId": "6f4e9c2d-b1a7-446f-e955-16f294586227",
        "colab": {
          "base_uri": "https://localhost:8080/",
          "height": 332
        }
      },
      "source": [
        "sns.countplot(\"target\",data=train_data)"
      ],
      "execution_count": 0,
      "outputs": [
        {
          "output_type": "stream",
          "text": [
            "/usr/local/lib/python3.6/dist-packages/seaborn/categorical.py:1428: FutureWarning: remove_na is deprecated and is a private function. Do not use.\n",
            "  stat_data = remove_na(group_data)\n"
          ],
          "name": "stderr"
        },
        {
          "output_type": "execute_result",
          "data": {
            "text/plain": [
              "<matplotlib.axes._subplots.AxesSubplot at 0x7fddc63ba978>"
            ]
          },
          "metadata": {
            "tags": []
          },
          "execution_count": 9
        },
        {
          "output_type": "display_data",
          "data": {
            "image/png": "[encoded data removed]",
            "text/plain": [
              "<Figure size 432x288 with 1 Axes>"
            ]
          },
          "metadata": {
            "tags": []
          }
        }
      ]
    },
    {
      "cell_type": "code",
      "metadata": {
        "id": "g5UVEcTRG8IJ",
        "colab_type": "code",
        "outputId": "6d181840-eb3b-4526-afde-d0f971a2c809",
        "colab": {
          "base_uri": "https://localhost:8080/",
          "height": 51
        }
      },
      "source": [
        "# now let us check in the number of Percentage\n",
        "Count_Sincere_Questions = len(train_data[train_data[\"target\"]==0]) \n",
        "Count_Insincere_Questions = len(train_data[train_data[\"target\"]==1]) \n",
        "Percentage_of_Sincere_Questions = Count_Sincere_Questions/(Count_Sincere_Questions+Count_Insincere_Questions)\n",
        "print(\"percentage of Sincere Questions is\",Percentage_of_Sincere_Questions*100)\n",
        "Percentage_of_Insincere_Questions= Count_Insincere_Questions/(Count_Sincere_Questions+Count_Insincere_Questions)\n",
        "print(\"percentage of Insincere Questions\",Percentage_of_Insincere_Questions*100)"
      ],
      "execution_count": 0,
      "outputs": [
        {
          "output_type": "stream",
          "text": [
            "percentage of Sincere Questions is 93.81298224821265\n",
            "percentage of Insincere Questions 6.187017751787352\n"
          ],
          "name": "stdout"
        }
      ]
    },
    {
      "cell_type": "code",
      "metadata": {
        "id": "GF63ity5549J",
        "colab_type": "code",
        "outputId": "2a4840c6-363a-48eb-9bd1-17476fd567ca",
        "colab": {
          "base_uri": "https://localhost:8080/",
          "height": 204
        }
      },
      "source": [
        "train_data['word_count'] = train_data['question_text'].apply(lambda x: len(str(x).split(\" \")))\n",
        "train_data[['question_text','word_count']].head()\n"
      ],
      "execution_count": 0,
      "outputs": [
        {
          "output_type": "execute_result",
          "data": {
            "text/html": [
              "<div>\n",
              "<style scoped>\n",
              "    .dataframe tbody tr th:only-of-type {\n",
              "        vertical-align: middle;\n",
              "    }\n",
              "\n",
              "    .dataframe tbody tr th {\n",
              "        vertical-align: top;\n",
              "    }\n",
              "\n",
              "    .dataframe thead th {\n",
              "        text-align: right;\n",
              "    }\n",
              "</style>\n",
              "<table border=\"1\" class=\"dataframe\">\n",
              "  <thead>\n",
              "    <tr style=\"text-align: right;\">\n",
              "      <th></th>\n",
              "      <th>question_text</th>\n",
              "      <th>word_count</th>\n",
              "    </tr>\n",
              "  </thead>\n",
              "  <tbody>\n",
              "    <tr>\n",
              "      <th>0</th>\n",
              "      <td>How did Quebec nationalists see their province...</td>\n",
              "      <td>13</td>\n",
              "    </tr>\n",
              "    <tr>\n",
              "      <th>1</th>\n",
              "      <td>Do you have an adopted dog, how would you enco...</td>\n",
              "      <td>16</td>\n",
              "    </tr>\n",
              "    <tr>\n",
              "      <th>2</th>\n",
              "      <td>Why does velocity affect time? Does velocity a...</td>\n",
              "      <td>10</td>\n",
              "    </tr>\n",
              "    <tr>\n",
              "      <th>3</th>\n",
              "      <td>How did Otto von Guericke used the Magdeburg h...</td>\n",
              "      <td>9</td>\n",
              "    </tr>\n",
              "    <tr>\n",
              "      <th>4</th>\n",
              "      <td>Can I convert montra helicon D to a mountain b...</td>\n",
              "      <td>15</td>\n",
              "    </tr>\n",
              "  </tbody>\n",
              "</table>\n",
              "</div>"
            ],
            "text/plain": [
              "                                       question_text  word_count\n",
              "0  How did Quebec nationalists see their province...          13\n",
              "1  Do you have an adopted dog, how would you enco...          16\n",
              "2  Why does velocity affect time? Does velocity a...          10\n",
              "3  How did Otto von Guericke used the Magdeburg h...           9\n",
              "4  Can I convert montra helicon D to a mountain b...          15"
            ]
          },
          "metadata": {
            "tags": []
          },
          "execution_count": 11
        }
      ]
    },
    {
      "cell_type": "code",
      "metadata": {
        "id": "KLXYI7Un5_rR",
        "colab_type": "code",
        "outputId": "ea75070d-13d6-4270-d34a-ee269e813767",
        "colab": {
          "base_uri": "https://localhost:8080/",
          "height": 204
        }
      },
      "source": [
        "test_data['word_count'] = test_data['question_text'].apply(lambda x: len(str(x).split(\" \")))\n",
        "test_data[['question_text','word_count']].head()"
      ],
      "execution_count": 0,
      "outputs": [
        {
          "output_type": "execute_result",
          "data": {
            "text/html": [
              "<div>\n",
              "<style scoped>\n",
              "    .dataframe tbody tr th:only-of-type {\n",
              "        vertical-align: middle;\n",
              "    }\n",
              "\n",
              "    .dataframe tbody tr th {\n",
              "        vertical-align: top;\n",
              "    }\n",
              "\n",
              "    .dataframe thead th {\n",
              "        text-align: right;\n",
              "    }\n",
              "</style>\n",
              "<table border=\"1\" class=\"dataframe\">\n",
              "  <thead>\n",
              "    <tr style=\"text-align: right;\">\n",
              "      <th></th>\n",
              "      <th>question_text</th>\n",
              "      <th>word_count</th>\n",
              "    </tr>\n",
              "  </thead>\n",
              "  <tbody>\n",
              "    <tr>\n",
              "      <th>0</th>\n",
              "      <td>Why do so many women become so rude and arroga...</td>\n",
              "      <td>21</td>\n",
              "    </tr>\n",
              "    <tr>\n",
              "      <th>1</th>\n",
              "      <td>When should I apply for RV college of engineer...</td>\n",
              "      <td>30</td>\n",
              "    </tr>\n",
              "    <tr>\n",
              "      <th>2</th>\n",
              "      <td>What is it really like to be a nurse practitio...</td>\n",
              "      <td>10</td>\n",
              "    </tr>\n",
              "    <tr>\n",
              "      <th>3</th>\n",
              "      <td>Who are entrepreneurs?</td>\n",
              "      <td>3</td>\n",
              "    </tr>\n",
              "    <tr>\n",
              "      <th>4</th>\n",
              "      <td>Is education really making good people nowadays?</td>\n",
              "      <td>7</td>\n",
              "    </tr>\n",
              "  </tbody>\n",
              "</table>\n",
              "</div>"
            ],
            "text/plain": [
              "                                       question_text  word_count\n",
              "0  Why do so many women become so rude and arroga...          21\n",
              "1  When should I apply for RV college of engineer...          30\n",
              "2  What is it really like to be a nurse practitio...          10\n",
              "3                             Who are entrepreneurs?           3\n",
              "4   Is education really making good people nowadays?           7"
            ]
          },
          "metadata": {
            "tags": []
          },
          "execution_count": 12
        }
      ]
    },
    {
      "cell_type": "code",
      "metadata": {
        "id": "_83vt7GG6JDK",
        "colab_type": "code",
        "outputId": "602b694f-f3b0-4051-dba4-995e2bd196e8",
        "colab": {
          "base_uri": "https://localhost:8080/",
          "height": 204
        }
      },
      "source": [
        "train_data['char_count'] = train_data['question_text'].str.len() ## this also includes spaces\n",
        "train_data[['question_text','char_count']].head()"
      ],
      "execution_count": 0,
      "outputs": [
        {
          "output_type": "execute_result",
          "data": {
            "text/html": [
              "<div>\n",
              "<style scoped>\n",
              "    .dataframe tbody tr th:only-of-type {\n",
              "        vertical-align: middle;\n",
              "    }\n",
              "\n",
              "    .dataframe tbody tr th {\n",
              "        vertical-align: top;\n",
              "    }\n",
              "\n",
              "    .dataframe thead th {\n",
              "        text-align: right;\n",
              "    }\n",
              "</style>\n",
              "<table border=\"1\" class=\"dataframe\">\n",
              "  <thead>\n",
              "    <tr style=\"text-align: right;\">\n",
              "      <th></th>\n",
              "      <th>question_text</th>\n",
              "      <th>char_count</th>\n",
              "    </tr>\n",
              "  </thead>\n",
              "  <tbody>\n",
              "    <tr>\n",
              "      <th>0</th>\n",
              "      <td>How did Quebec nationalists see their province...</td>\n",
              "      <td>72</td>\n",
              "    </tr>\n",
              "    <tr>\n",
              "      <th>1</th>\n",
              "      <td>Do you have an adopted dog, how would you enco...</td>\n",
              "      <td>81</td>\n",
              "    </tr>\n",
              "    <tr>\n",
              "      <th>2</th>\n",
              "      <td>Why does velocity affect time? Does velocity a...</td>\n",
              "      <td>67</td>\n",
              "    </tr>\n",
              "    <tr>\n",
              "      <th>3</th>\n",
              "      <td>How did Otto von Guericke used the Magdeburg h...</td>\n",
              "      <td>57</td>\n",
              "    </tr>\n",
              "    <tr>\n",
              "      <th>4</th>\n",
              "      <td>Can I convert montra helicon D to a mountain b...</td>\n",
              "      <td>77</td>\n",
              "    </tr>\n",
              "  </tbody>\n",
              "</table>\n",
              "</div>"
            ],
            "text/plain": [
              "                                       question_text  char_count\n",
              "0  How did Quebec nationalists see their province...          72\n",
              "1  Do you have an adopted dog, how would you enco...          81\n",
              "2  Why does velocity affect time? Does velocity a...          67\n",
              "3  How did Otto von Guericke used the Magdeburg h...          57\n",
              "4  Can I convert montra helicon D to a mountain b...          77"
            ]
          },
          "metadata": {
            "tags": []
          },
          "execution_count": 13
        }
      ]
    },
    {
      "cell_type": "code",
      "metadata": {
        "id": "bShIE6o-6MSn",
        "colab_type": "code",
        "outputId": "6af1b1e1-477c-4d90-cbe1-026e6271fd07",
        "colab": {
          "base_uri": "https://localhost:8080/",
          "height": 204
        }
      },
      "source": [
        "test_data['char_count'] = test_data['question_text'].str.len() ## this also includes spaces\n",
        "test_data[['question_text','char_count']].head()"
      ],
      "execution_count": 0,
      "outputs": [
        {
          "output_type": "execute_result",
          "data": {
            "text/html": [
              "<div>\n",
              "<style scoped>\n",
              "    .dataframe tbody tr th:only-of-type {\n",
              "        vertical-align: middle;\n",
              "    }\n",
              "\n",
              "    .dataframe tbody tr th {\n",
              "        vertical-align: top;\n",
              "    }\n",
              "\n",
              "    .dataframe thead th {\n",
              "        text-align: right;\n",
              "    }\n",
              "</style>\n",
              "<table border=\"1\" class=\"dataframe\">\n",
              "  <thead>\n",
              "    <tr style=\"text-align: right;\">\n",
              "      <th></th>\n",
              "      <th>question_text</th>\n",
              "      <th>char_count</th>\n",
              "    </tr>\n",
              "  </thead>\n",
              "  <tbody>\n",
              "    <tr>\n",
              "      <th>0</th>\n",
              "      <td>Why do so many women become so rude and arroga...</td>\n",
              "      <td>101</td>\n",
              "    </tr>\n",
              "    <tr>\n",
              "      <th>1</th>\n",
              "      <td>When should I apply for RV college of engineer...</td>\n",
              "      <td>162</td>\n",
              "    </tr>\n",
              "    <tr>\n",
              "      <th>2</th>\n",
              "      <td>What is it really like to be a nurse practitio...</td>\n",
              "      <td>50</td>\n",
              "    </tr>\n",
              "    <tr>\n",
              "      <th>3</th>\n",
              "      <td>Who are entrepreneurs?</td>\n",
              "      <td>22</td>\n",
              "    </tr>\n",
              "    <tr>\n",
              "      <th>4</th>\n",
              "      <td>Is education really making good people nowadays?</td>\n",
              "      <td>48</td>\n",
              "    </tr>\n",
              "  </tbody>\n",
              "</table>\n",
              "</div>"
            ],
            "text/plain": [
              "                                       question_text  char_count\n",
              "0  Why do so many women become so rude and arroga...         101\n",
              "1  When should I apply for RV college of engineer...         162\n",
              "2  What is it really like to be a nurse practitio...          50\n",
              "3                             Who are entrepreneurs?          22\n",
              "4   Is education really making good people nowadays?          48"
            ]
          },
          "metadata": {
            "tags": []
          },
          "execution_count": 14
        }
      ]
    },
    {
      "cell_type": "code",
      "metadata": {
        "id": "FZ_ui33L6Qbv",
        "colab_type": "code",
        "outputId": "20ea5ec4-f85b-4ee7-abc1-04f03270275e",
        "colab": {
          "base_uri": "https://localhost:8080/",
          "height": 119
        }
      },
      "source": [
        "train_data['question_text'] = train_data['question_text'].apply(lambda x: \" \".join(x.lower() for x in x.split()))\n",
        "train_data['question_text'].head()"
      ],
      "execution_count": 0,
      "outputs": [
        {
          "output_type": "execute_result",
          "data": {
            "text/plain": [
              "0    how did quebec nationalists see their province...\n",
              "1    do you have an adopted dog, how would you enco...\n",
              "2    why does velocity affect time? does velocity a...\n",
              "3    how did otto von guericke used the magdeburg h...\n",
              "4    can i convert montra helicon d to a mountain b...\n",
              "Name: question_text, dtype: object"
            ]
          },
          "metadata": {
            "tags": []
          },
          "execution_count": 15
        }
      ]
    },
    {
      "cell_type": "code",
      "metadata": {
        "id": "IWtWIPsD6VC_",
        "colab_type": "code",
        "outputId": "d3dfde62-722f-4028-86ee-69db0e59a35e",
        "colab": {
          "base_uri": "https://localhost:8080/",
          "height": 119
        }
      },
      "source": [
        "test_data['question_text'] = test_data['question_text'].apply(lambda x: \" \".join(x.lower() for x in x.split()))\n",
        "test_data['question_text'].head()"
      ],
      "execution_count": 0,
      "outputs": [
        {
          "output_type": "execute_result",
          "data": {
            "text/plain": [
              "0    why do so many women become so rude and arroga...\n",
              "1    when should i apply for rv college of engineer...\n",
              "2    what is it really like to be a nurse practitio...\n",
              "3                               who are entrepreneurs?\n",
              "4     is education really making good people nowadays?\n",
              "Name: question_text, dtype: object"
            ]
          },
          "metadata": {
            "tags": []
          },
          "execution_count": 16
        }
      ]
    },
    {
      "cell_type": "code",
      "metadata": {
        "id": "f_vBF2zT6af3",
        "colab_type": "code",
        "colab": {}
      },
      "source": [
        "from sklearn.metrics import confusion_matrix\n",
        "from mlxtend.plotting import plot_confusion_matrix\n",
        "import matplotlib.pyplot as plt\n",
        "import numpy as np\n",
        "import pylab as pl"
      ],
      "execution_count": 0,
      "outputs": []
    },
    {
      "cell_type": "code",
      "metadata": {
        "id": "yjj9Ev6H6wma",
        "colab_type": "code",
        "outputId": "fa24ddf1-2ba1-4dae-a7fd-e017cb702f32",
        "colab": {
          "base_uri": "https://localhost:8080/",
          "height": 119
        }
      },
      "source": [
        "train_data['question_text'] = train_data['question_text'].str.replace('[^\\w\\s]','')\n",
        "train_data['question_text'].head()"
      ],
      "execution_count": 0,
      "outputs": [
        {
          "output_type": "execute_result",
          "data": {
            "text/plain": [
              "0    how did quebec nationalists see their province...\n",
              "1    do you have an adopted dog how would you encou...\n",
              "2    why does velocity affect time does velocity af...\n",
              "3    how did otto von guericke used the magdeburg h...\n",
              "4    can i convert montra helicon d to a mountain b...\n",
              "Name: question_text, dtype: object"
            ]
          },
          "metadata": {
            "tags": []
          },
          "execution_count": 18
        }
      ]
    },
    {
      "cell_type": "code",
      "metadata": {
        "id": "TJ15bf1G62yX",
        "colab_type": "code",
        "outputId": "e96f1971-e315-4a97-a7e6-376966380415",
        "colab": {
          "base_uri": "https://localhost:8080/",
          "height": 119
        }
      },
      "source": [
        "test_data['question_text'] = test_data['question_text'].str.replace('[^\\w\\s]','')\n",
        "test_data['question_text'].head()"
      ],
      "execution_count": 0,
      "outputs": [
        {
          "output_type": "execute_result",
          "data": {
            "text/plain": [
              "0    why do so many women become so rude and arroga...\n",
              "1    when should i apply for rv college of engineer...\n",
              "2    what is it really like to be a nurse practitioner\n",
              "3                                who are entrepreneurs\n",
              "4      is education really making good people nowadays\n",
              "Name: question_text, dtype: object"
            ]
          },
          "metadata": {
            "tags": []
          },
          "execution_count": 19
        }
      ]
    },
    {
      "cell_type": "code",
      "metadata": {
        "id": "8TvS6G1P67Gd",
        "colab_type": "code",
        "outputId": "5e8c7bcd-77ed-48a8-dc88-0094a2c00450",
        "colab": {
          "base_uri": "https://localhost:8080/",
          "height": 119
        }
      },
      "source": [
        "train_data['question_text'] = train_data['question_text'].str.replace('[^\\w\\s]','')\n",
        "train_data['question_text'].head()"
      ],
      "execution_count": 0,
      "outputs": [
        {
          "output_type": "execute_result",
          "data": {
            "text/plain": [
              "0    how did quebec nationalists see their province...\n",
              "1    do you have an adopted dog how would you encou...\n",
              "2    why does velocity affect time does velocity af...\n",
              "3    how did otto von guericke used the magdeburg h...\n",
              "4    can i convert montra helicon d to a mountain b...\n",
              "Name: question_text, dtype: object"
            ]
          },
          "metadata": {
            "tags": []
          },
          "execution_count": 20
        }
      ]
    },
    {
      "cell_type": "code",
      "metadata": {
        "id": "KCFCMmjp7ARC",
        "colab_type": "code",
        "outputId": "326de7e2-5ed3-4d16-a11d-f4878b8efd93",
        "colab": {
          "base_uri": "https://localhost:8080/",
          "height": 119
        }
      },
      "source": [
        "\n",
        "test_data['question_text'] = test_data['question_text'].str.replace('[^\\w\\s]','')\n",
        "test_data['question_text'].head()"
      ],
      "execution_count": 0,
      "outputs": [
        {
          "output_type": "execute_result",
          "data": {
            "text/plain": [
              "0    why do so many women become so rude and arroga...\n",
              "1    when should i apply for rv college of engineer...\n",
              "2    what is it really like to be a nurse practitioner\n",
              "3                                who are entrepreneurs\n",
              "4      is education really making good people nowadays\n",
              "Name: question_text, dtype: object"
            ]
          },
          "metadata": {
            "tags": []
          },
          "execution_count": 21
        }
      ]
    },
    {
      "cell_type": "code",
      "metadata": {
        "id": "2TbUL31V7HKZ",
        "colab_type": "code",
        "outputId": "bceadc8f-b604-4d0b-a3cb-4d93d475487b",
        "colab": {
          "base_uri": "https://localhost:8080/",
          "height": 119
        }
      },
      "source": [
        "freq = pd.Series(' '.join(train_data['question_text']).split()).value_counts()[-20:]\n",
        "freq\n",
        "freq = list(freq.index)\n",
        "train_data['question_text'] = train_data['question_text'].apply(lambda x: \" \".join(x for x in x.split() if x not in freq))\n",
        "train_data['question_text'].head()"
      ],
      "execution_count": 0,
      "outputs": [
        {
          "output_type": "execute_result",
          "data": {
            "text/plain": [
              "0    how did quebec nationalists see their province...\n",
              "1    do you have an adopted dog how would you encou...\n",
              "2    why does velocity affect time does velocity af...\n",
              "3    how did otto von guericke used the magdeburg h...\n",
              "4    can i convert montra helicon d to a mountain b...\n",
              "Name: question_text, dtype: object"
            ]
          },
          "metadata": {
            "tags": []
          },
          "execution_count": 22
        }
      ]
    },
    {
      "cell_type": "code",
      "metadata": {
        "id": "stG07dYH7MJV",
        "colab_type": "code",
        "outputId": "1467fbce-21cd-489a-9a53-49f5f63a49b0",
        "colab": {
          "base_uri": "https://localhost:8080/",
          "height": 119
        }
      },
      "source": [
        "from textblob import TextBlob\n",
        "train_data['question_text'][:5].apply(lambda x: str(TextBlob(x).correct()))\n",
        "test_data['question_text'][:5].apply(lambda x: str(TextBlob(x).correct()))#"
      ],
      "execution_count": 0,
      "outputs": [
        {
          "output_type": "execute_result",
          "data": {
            "text/plain": [
              "0    why do so many women become so rude and arroga...\n",
              "1    when should i apply for re college of engineer...\n",
              "2    what is it really like to be a nurse practitioner\n",
              "3                                who are entrepreneurs\n",
              "4      is education really making good people nowadays\n",
              "Name: question_text, dtype: object"
            ]
          },
          "metadata": {
            "tags": []
          },
          "execution_count": 23
        }
      ]
    },
    {
      "cell_type": "code",
      "metadata": {
        "id": "6XHj9GMzIaxn",
        "colab_type": "code",
        "outputId": "547eb2a8-5adf-4033-9ae3-7a2109320e85",
        "colab": {
          "base_uri": "https://localhost:8080/",
          "height": 68
        }
      },
      "source": [
        "import nltk\n",
        "nltk.download('wordnet')"
      ],
      "execution_count": 0,
      "outputs": [
        {
          "output_type": "stream",
          "text": [
            "[nltk_data] Downloading package wordnet to /root/nltk_data...\n",
            "[nltk_data]   Unzipping corpora/wordnet.zip.\n"
          ],
          "name": "stdout"
        },
        {
          "output_type": "execute_result",
          "data": {
            "text/plain": [
              "True"
            ]
          },
          "metadata": {
            "tags": []
          },
          "execution_count": 26
        }
      ]
    },
    {
      "cell_type": "code",
      "metadata": {
        "id": "tm-_XM-v7bsy",
        "colab_type": "code",
        "outputId": "892ec556-c4c1-4370-b940-a7edefdc8a38",
        "colab": {
          "base_uri": "https://localhost:8080/",
          "height": 119
        }
      },
      "source": [
        "from textblob import Word\n",
        "train_data['question_text'] = train_data['question_text'].apply(lambda x: \" \".join([Word(word).lemmatize() for word in x.split()]))\n",
        "train_data['question_text'].head()"
      ],
      "execution_count": 0,
      "outputs": [
        {
          "output_type": "execute_result",
          "data": {
            "text/plain": [
              "0    how did quebec nationalist see their province ...\n",
              "1    do you have an adopted dog how would you encou...\n",
              "2    why doe velocity affect time doe velocity affe...\n",
              "3    how did otto von guericke used the magdeburg h...\n",
              "4    can i convert montra helicon d to a mountain b...\n",
              "Name: question_text, dtype: object"
            ]
          },
          "metadata": {
            "tags": []
          },
          "execution_count": 27
        }
      ]
    },
    {
      "cell_type": "code",
      "metadata": {
        "id": "pMMz60ID7gKV",
        "colab_type": "code",
        "outputId": "699489d9-5e84-4b3a-9efa-905fe8934780",
        "colab": {
          "base_uri": "https://localhost:8080/",
          "height": 119
        }
      },
      "source": [
        "test_data['question_text'] = test_data['question_text'].apply(lambda x: \" \".join([Word(word).lemmatize() for word in x.split()]))\n",
        "test_data['question_text'].head()"
      ],
      "execution_count": 0,
      "outputs": [
        {
          "output_type": "execute_result",
          "data": {
            "text/plain": [
              "0    why do so many woman become so rude and arroga...\n",
              "1    when should i apply for rv college of engineer...\n",
              "2    what is it really like to be a nurse practitioner\n",
              "3                                 who are entrepreneur\n",
              "4      is education really making good people nowadays\n",
              "Name: question_text, dtype: object"
            ]
          },
          "metadata": {
            "tags": []
          },
          "execution_count": 28
        }
      ]
    },
    {
      "cell_type": "code",
      "metadata": {
        "id": "f6s7SeqRAP4r",
        "colab_type": "code",
        "outputId": "202fef4c-dd75-40a3-cd04-d8a66af9e4fc",
        "colab": {
          "base_uri": "https://localhost:8080/",
          "height": 68
        }
      },
      "source": [
        "import nltk\n",
        "nltk.download('stopwords')"
      ],
      "execution_count": 0,
      "outputs": [
        {
          "output_type": "stream",
          "text": [
            "[nltk_data] Downloading package stopwords to /root/nltk_data...\n",
            "[nltk_data]   Unzipping corpora/stopwords.zip.\n"
          ],
          "name": "stdout"
        },
        {
          "output_type": "execute_result",
          "data": {
            "text/plain": [
              "True"
            ]
          },
          "metadata": {
            "tags": []
          },
          "execution_count": 29
        }
      ]
    },
    {
      "cell_type": "code",
      "metadata": {
        "id": "ZyCFaoazAIdP",
        "colab_type": "code",
        "colab": {}
      },
      "source": [
        "# Import stopwords with nltk.\n",
        "from nltk.corpus import stopwords\n",
        "stop = stopwords.words('english')"
      ],
      "execution_count": 0,
      "outputs": []
    },
    {
      "cell_type": "code",
      "metadata": {
        "id": "OoRVTNz7_EDj",
        "colab_type": "code",
        "outputId": "00431245-ad63-4286-eb91-98053cc8d094",
        "colab": {
          "base_uri": "https://localhost:8080/",
          "height": 119
        }
      },
      "source": [
        "test_data['question_text'] = test_data['question_text'].apply(lambda x: ' '.join([word for word in x.split() if word not in (stop)]))\n",
        "test_data['question_text'].head()"
      ],
      "execution_count": 0,
      "outputs": [
        {
          "output_type": "execute_result",
          "data": {
            "text/plain": [
              "0    many woman become rude arrogant get little bit...\n",
              "1    apply rv college engineering bm college engine...\n",
              "2                       really like nurse practitioner\n",
              "3                                         entrepreneur\n",
              "4         education really making good people nowadays\n",
              "Name: question_text, dtype: object"
            ]
          },
          "metadata": {
            "tags": []
          },
          "execution_count": 31
        }
      ]
    },
    {
      "cell_type": "code",
      "metadata": {
        "id": "g2oNxMwJ-Rti",
        "colab_type": "code",
        "outputId": "827a3b39-c7d3-4a6d-cdb1-57c167f7348c",
        "colab": {
          "base_uri": "https://localhost:8080/",
          "height": 204
        }
      },
      "source": [
        "test_data.head()"
      ],
      "execution_count": 0,
      "outputs": [
        {
          "output_type": "execute_result",
          "data": {
            "text/html": [
              "<div>\n",
              "<style scoped>\n",
              "    .dataframe tbody tr th:only-of-type {\n",
              "        vertical-align: middle;\n",
              "    }\n",
              "\n",
              "    .dataframe tbody tr th {\n",
              "        vertical-align: top;\n",
              "    }\n",
              "\n",
              "    .dataframe thead th {\n",
              "        text-align: right;\n",
              "    }\n",
              "</style>\n",
              "<table border=\"1\" class=\"dataframe\">\n",
              "  <thead>\n",
              "    <tr style=\"text-align: right;\">\n",
              "      <th></th>\n",
              "      <th>qid</th>\n",
              "      <th>question_text</th>\n",
              "      <th>word_count</th>\n",
              "      <th>char_count</th>\n",
              "    </tr>\n",
              "  </thead>\n",
              "  <tbody>\n",
              "    <tr>\n",
              "      <th>0</th>\n",
              "      <td>0000163e3ea7c7a74cd7</td>\n",
              "      <td>many woman become rude arrogant get little bit...</td>\n",
              "      <td>21</td>\n",
              "      <td>101</td>\n",
              "    </tr>\n",
              "    <tr>\n",
              "      <th>1</th>\n",
              "      <td>00002bd4fb5d505b9161</td>\n",
              "      <td>apply rv college engineering bm college engine...</td>\n",
              "      <td>30</td>\n",
              "      <td>162</td>\n",
              "    </tr>\n",
              "    <tr>\n",
              "      <th>2</th>\n",
              "      <td>00007756b4a147d2b0b3</td>\n",
              "      <td>really like nurse practitioner</td>\n",
              "      <td>10</td>\n",
              "      <td>50</td>\n",
              "    </tr>\n",
              "    <tr>\n",
              "      <th>3</th>\n",
              "      <td>000086e4b7e1c7146103</td>\n",
              "      <td>entrepreneur</td>\n",
              "      <td>3</td>\n",
              "      <td>22</td>\n",
              "    </tr>\n",
              "    <tr>\n",
              "      <th>4</th>\n",
              "      <td>0000c4c3fbe8785a3090</td>\n",
              "      <td>education really making good people nowadays</td>\n",
              "      <td>7</td>\n",
              "      <td>48</td>\n",
              "    </tr>\n",
              "  </tbody>\n",
              "</table>\n",
              "</div>"
            ],
            "text/plain": [
              "                    qid                                      question_text  \\\n",
              "0  0000163e3ea7c7a74cd7  many woman become rude arrogant get little bit...   \n",
              "1  00002bd4fb5d505b9161  apply rv college engineering bm college engine...   \n",
              "2  00007756b4a147d2b0b3                     really like nurse practitioner   \n",
              "3  000086e4b7e1c7146103                                       entrepreneur   \n",
              "4  0000c4c3fbe8785a3090       education really making good people nowadays   \n",
              "\n",
              "   word_count  char_count  \n",
              "0          21         101  \n",
              "1          30         162  \n",
              "2          10          50  \n",
              "3           3          22  \n",
              "4           7          48  "
            ]
          },
          "metadata": {
            "tags": []
          },
          "execution_count": 32
        }
      ]
    },
    {
      "cell_type": "code",
      "metadata": {
        "id": "B9PKP7lu9NjH",
        "colab_type": "code",
        "colab": {}
      },
      "source": [
        "train_text = train_data['question_text']\n",
        "test_text = test_data['question_text']\n",
        "train_target = train_data['target']\n",
        "all_text = train_text.append(test_text)"
      ],
      "execution_count": 0,
      "outputs": []
    },
    {
      "cell_type": "code",
      "metadata": {
        "id": "3Mur1k4H-OdG",
        "colab_type": "code",
        "colab": {}
      },
      "source": [
        "#fit and transform\n",
        "\n",
        "tfidf_vectorizer = TfidfVectorizer()\n",
        "tfidf_vectorizer.fit(all_text)\n",
        "\n",
        "count_vectorizer = CountVectorizer()\n",
        "count_vectorizer.fit(all_text)\n",
        "\n",
        "train_text_features_cv = count_vectorizer.transform(train_text)\n",
        "test_text_features_cv = count_vectorizer.transform(test_text)\n",
        "\n",
        "train_text_features_tf = tfidf_vectorizer.transform(train_text)\n",
        "test_text_features_tf = tfidf_vectorizer.transform(test_text)"
      ],
      "execution_count": 0,
      "outputs": []
    },
    {
      "cell_type": "code",
      "metadata": {
        "id": "GcPIwssa-rfZ",
        "colab_type": "code",
        "outputId": "45fc50ca-7918-40b6-a598-f63001268ac9",
        "colab": {
          "base_uri": "https://localhost:8080/",
          "height": 357
        }
      },
      "source": [
        "kfold = KFold(n_splits = 5, shuffle = True, random_state = 2018)\n",
        "test_preds1 = 0\n",
        "oof_preds1 = np.zeros([train_data.shape[0],])\n",
        "test_preds2 = 0\n",
        "oof_preds2 = np.zeros([train_data.shape[0],])\n",
        "\n",
        "\n",
        "for i, (train_idx, valid_idx) in enumerate(kfold.split(train_data)):\n",
        "    x_train, x_valid = train_text_features_cv[train_idx,:],train_text_features_cv[valid_idx,:]\n",
        "    y_train, y_valid = train_target[train_idx], train_target[valid_idx]\n",
        "    classifier1 = MultinomialNB()\n",
        "    classifier2 = BernoulliNB()\n",
        "    print('fitting.......')\n",
        "    classifier1.fit(x_train,y_train)\n",
        "    classifier2.fit(x_train,y_train)\n",
        "    print('predicting......')\n",
        "    print('\\n')\n",
        "    \n",
        "    oof_preds1[valid_idx] = classifier1.predict_proba(x_valid)[:,1]\n",
        "    test_preds1 += 0.2*classifier1.predict_proba(test_text_features_cv)[:,1]\n",
        "    oof_preds2[valid_idx] = classifier2.predict_proba(x_valid)[:,1]\n",
        "    test_preds2 += 0.2*classifier2.predict_proba(test_text_features_cv)[:,1]"
      ],
      "execution_count": 0,
      "outputs": [
        {
          "output_type": "stream",
          "text": [
            "fitting.......\n",
            "predicting......\n",
            "\n",
            "\n",
            "fitting.......\n",
            "predicting......\n",
            "\n",
            "\n",
            "fitting.......\n",
            "predicting......\n",
            "\n",
            "\n",
            "fitting.......\n",
            "predicting......\n",
            "\n",
            "\n",
            "fitting.......\n",
            "predicting......\n",
            "\n",
            "\n"
          ],
          "name": "stdout"
        }
      ]
    },
    {
      "cell_type": "code",
      "metadata": {
        "id": "f3UCwQJw-74u",
        "colab_type": "code",
        "outputId": "1f4a1253-61ca-4008-a220-297ca195bb7f",
        "colab": {
          "base_uri": "https://localhost:8080/",
          "height": 34
        }
      },
      "source": [
        "pred_train = (oof_preds1 > .3).astype(np.int)\n",
        "f1_score(train_target, pred_train)"
      ],
      "execution_count": 0,
      "outputs": [
        {
          "output_type": "execute_result",
          "data": {
            "text/plain": [
              "0.536209852499065"
            ]
          },
          "metadata": {
            "tags": []
          },
          "execution_count": 36
        }
      ]
    },
    {
      "cell_type": "code",
      "metadata": {
        "id": "AXHggz1cF8rR",
        "colab_type": "code",
        "colab": {}
      },
      "source": [
        "from sklearn.metrics import confusion_matrix\n",
        "from mlxtend.plotting import plot_confusion_matrix\n",
        "import matplotlib.pyplot as plt\n",
        "import numpy as np\n",
        "import pylab as pl\n",
        "\n",
        "cm = confusion_matrix(train_target,pred_train)\n"
      ],
      "execution_count": 0,
      "outputs": []
    },
    {
      "cell_type": "code",
      "metadata": {
        "id": "hjqARa5NGOny",
        "colab_type": "code",
        "outputId": "e60e4b8c-2705-4c61-9b21-9840c45904aa",
        "colab": {
          "base_uri": "https://localhost:8080/",
          "height": 51
        }
      },
      "source": [
        "cm"
      ],
      "execution_count": 0,
      "outputs": [
        {
          "output_type": "execute_result",
          "data": {
            "text/plain": [
              "array([[1155427,   69885],\n",
              "       [  25608,   55202]])"
            ]
          },
          "metadata": {
            "tags": []
          },
          "execution_count": 38
        }
      ]
    },
    {
      "cell_type": "code",
      "metadata": {
        "id": "Wwc5pGvPF94I",
        "colab_type": "code",
        "outputId": "779b4ee1-6381-485f-e1b7-1ed229a7677d",
        "colab": {
          "base_uri": "https://localhost:8080/",
          "height": 281
        }
      },
      "source": [
        "binary = np.array(cm)\n",
        "ax = plot_confusion_matrix(conf_mat=binary,show_absolute=True,\n",
        "                                show_normed=True,\n",
        "                                colorbar=True)\n",
        "plt.show()"
      ],
      "execution_count": 0,
      "outputs": [
        {
          "output_type": "display_data",
          "data": {
            "image/png": "[encoded data removed]",
            "text/plain": [
              "<Figure size 432x288 with 2 Axes>"
            ]
          },
          "metadata": {
            "tags": []
          }
        }
      ]
    },
    {
      "cell_type": "code",
      "metadata": {
        "id": "iIoiFcbB_O2N",
        "colab_type": "code",
        "outputId": "a08edfb4-dbb4-4ed7-a9ee-8b67a585f5dc",
        "colab": {
          "base_uri": "https://localhost:8080/",
          "height": 34
        }
      },
      "source": [
        "pred_train = (oof_preds2 > .3).astype(np.int)\n",
        "f1_score(train_target, pred_train)"
      ],
      "execution_count": 0,
      "outputs": [
        {
          "output_type": "execute_result",
          "data": {
            "text/plain": [
              "0.5156903477499022"
            ]
          },
          "metadata": {
            "tags": []
          },
          "execution_count": 40
        }
      ]
    },
    {
      "cell_type": "code",
      "metadata": {
        "id": "mAPgIHFk_WgU",
        "colab_type": "code",
        "colab": {}
      },
      "source": [
        "from sklearn.metrics import confusion_matrix\n",
        "from mlxtend.plotting import plot_confusion_matrix\n",
        "import matplotlib.pyplot as plt\n",
        "import numpy as np\n",
        "import pylab as pl\n",
        "\n",
        "cm = confusion_matrix(train_target,pred_train)\n",
        "\n"
      ],
      "execution_count": 0,
      "outputs": []
    },
    {
      "cell_type": "code",
      "metadata": {
        "id": "LM09zYvFE5jx",
        "colab_type": "code",
        "outputId": "f6403708-8fa4-4fe9-8a4a-a44caa2a9cb5",
        "colab": {
          "base_uri": "https://localhost:8080/",
          "height": 51
        }
      },
      "source": [
        "cm"
      ],
      "execution_count": 0,
      "outputs": [
        {
          "output_type": "execute_result",
          "data": {
            "text/plain": [
              "array([[1171435,   53877],\n",
              "       [  34016,   46794]])"
            ]
          },
          "metadata": {
            "tags": []
          },
          "execution_count": 42
        }
      ]
    },
    {
      "cell_type": "code",
      "metadata": {
        "id": "WVYnSJKSDtIx",
        "colab_type": "code",
        "outputId": "22c91b44-9a49-49ec-f099-bcd038bc3b10",
        "colab": {
          "base_uri": "https://localhost:8080/",
          "height": 281
        }
      },
      "source": [
        "binary = np.array(cm)\n",
        "ax = plot_confusion_matrix(conf_mat=binary,show_absolute=True,\n",
        "                                show_normed=True,\n",
        "                                colorbar=True)\n",
        "plt.show()"
      ],
      "execution_count": 0,
      "outputs": [
        {
          "output_type": "display_data",
          "data": {
            "image/png": "[encoded data removed]",
            "text/plain": [
              "<Figure size 432x288 with 2 Axes>"
            ]
          },
          "metadata": {
            "tags": []
          }
        }
      ]
    }
  ]
}