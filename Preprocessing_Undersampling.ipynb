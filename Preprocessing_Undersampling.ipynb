{
  "nbformat": 4,
  "nbformat_minor": 0,
  "metadata": {
    "colab": {
      "name": "Preprocessing_Undersampling.ipynb",
      "provenance": [],
      "collapsed_sections": []
    },
    "kernelspec": {
      "name": "python3",
      "display_name": "Python 3"
    }
  },
  "cells": [
    {
      "cell_type": "code",
      "metadata": {
        "id": "1326qYYdFSXh",
        "colab_type": "code",
        "colab": {}
      },
      "source": [
        "import numpy as np # linear algebra\n",
        "import pandas as pd # data processing, CSV file I/O (e.g. pd.read_csv)\n",
        "import seaborn as sns # for intractve graphs"
      ],
      "execution_count": 0,
      "outputs": []
    },
    {
      "cell_type": "code",
      "metadata": {
        "id": "CRRqz6ejFYxV",
        "colab_type": "code",
        "outputId": "a1cf6239-20f7-43cf-b9a7-7d0b17aaddde",
        "colab": {
          "base_uri": "https://localhost:8080/",
          "height": 34
        }
      },
      "source": [
        "from google.colab import drive\n",
        "import os\n",
        "drive.mount('/content/drive/')\n",
        "os.chdir('/content/drive/My Drive/DA_Assignment/input/')"
      ],
      "execution_count": 0,
      "outputs": [
        {
          "output_type": "stream",
          "text": [
            "Drive already mounted at /content/drive/; to attempt to forcibly remount, call drive.mount(\"/content/drive/\", force_remount=True).\n"
          ],
          "name": "stdout"
        }
      ]
    },
    {
      "cell_type": "code",
      "metadata": {
        "id": "btTj_l-LGKEB",
        "colab_type": "code",
        "colab": {}
      },
      "source": [
        "import nltk\n",
        "from nltk.corpus import stopwords"
      ],
      "execution_count": 0,
      "outputs": []
    },
    {
      "cell_type": "code",
      "metadata": {
        "id": "A9FK6qghGZCG",
        "colab_type": "code",
        "colab": {}
      },
      "source": [
        "from sklearn.metrics import f1_score\n",
        "from sklearn.model_selection import KFold\n",
        "from sklearn.feature_extraction.text import TfidfVectorizer, CountVectorizer\n",
        "from sklearn.naive_bayes import GaussianNB,MultinomialNB,BernoulliNB"
      ],
      "execution_count": 0,
      "outputs": []
    },
    {
      "cell_type": "code",
      "metadata": {
        "id": "Zf7YahP4GchK",
        "colab_type": "code",
        "colab": {}
      },
      "source": [
        "import matplotlib.pyplot as plt\n",
        "plt.style.use(\"ggplot\")\n",
        "%matplotlib inline"
      ],
      "execution_count": 0,
      "outputs": []
    },
    {
      "cell_type": "code",
      "metadata": {
        "id": "VjhshS13Gk-Q",
        "colab_type": "code",
        "colab": {}
      },
      "source": [
        "train_data = pd.read_csv(\"../input/train.csv\", header=0)\n",
        "test_data = pd.read_csv(\"../input/test.csv\", header=0)"
      ],
      "execution_count": 0,
      "outputs": []
    },
    {
      "cell_type": "code",
      "metadata": {
        "id": "MwrKqX5FGosM",
        "colab_type": "code",
        "outputId": "f6c9a3ce-fced-411c-e988-77216f963e80",
        "colab": {
          "base_uri": "https://localhost:8080/",
          "height": 153
        }
      },
      "source": [
        "train_data.info()"
      ],
      "execution_count": 0,
      "outputs": [
        {
          "output_type": "stream",
          "text": [
            "<class 'pandas.core.frame.DataFrame'>\n",
            "RangeIndex: 1306122 entries, 0 to 1306121\n",
            "Data columns (total 3 columns):\n",
            "qid              1306122 non-null object\n",
            "question_text    1306122 non-null object\n",
            "target           1306122 non-null int64\n",
            "dtypes: int64(1), object(2)\n",
            "memory usage: 29.9+ MB\n"
          ],
          "name": "stdout"
        }
      ]
    },
    {
      "cell_type": "code",
      "metadata": {
        "id": "af5MATeuG0D_",
        "colab_type": "code",
        "outputId": "991b9016-e6c6-4836-da89-e0b2d9d19349",
        "colab": {
          "base_uri": "https://localhost:8080/",
          "height": 85
        }
      },
      "source": [
        "train_data.isnull().sum()"
      ],
      "execution_count": 0,
      "outputs": [
        {
          "output_type": "execute_result",
          "data": {
            "text/plain": [
              "qid              0\n",
              "question_text    0\n",
              "target           0\n",
              "dtype: int64"
            ]
          },
          "metadata": {
            "tags": []
          },
          "execution_count": 71
        }
      ]
    },
    {
      "cell_type": "code",
      "metadata": {
        "id": "BM3KRi3GG3U1",
        "colab_type": "code",
        "outputId": "b48fdf25-49d4-4a1f-e3f9-aacc94598b11",
        "colab": {
          "base_uri": "https://localhost:8080/",
          "height": 332
        }
      },
      "source": [
        "sns.countplot(\"target\",data=train_data)"
      ],
      "execution_count": 0,
      "outputs": [
        {
          "output_type": "stream",
          "text": [
            "/usr/local/lib/python3.6/dist-packages/seaborn/categorical.py:1428: FutureWarning: remove_na is deprecated and is a private function. Do not use.\n",
            "  stat_data = remove_na(group_data)\n"
          ],
          "name": "stderr"
        },
        {
          "output_type": "execute_result",
          "data": {
            "text/plain": [
              "<matplotlib.axes._subplots.AxesSubplot at 0x7f9946abfbe0>"
            ]
          },
          "metadata": {
            "tags": []
          },
          "execution_count": 72
        },
        {
          "output_type": "display_data",
          "data": {
            "image/png": "[encoded data removed]",
            "text/plain": [
              "<Figure size 432x288 with 1 Axes>"
            ]
          },
          "metadata": {
            "tags": []
          }
        }
      ]
    },
    {
      "cell_type": "code",
      "metadata": {
        "id": "g5UVEcTRG8IJ",
        "colab_type": "code",
        "outputId": "75642212-8c08-44d0-f937-086c9c3ac94b",
        "colab": {
          "base_uri": "https://localhost:8080/",
          "height": 51
        }
      },
      "source": [
        "# now let us check in the number of Percentage\n",
        "Count_Sincere_Questions = len(train_data[train_data[\"target\"]==0]) \n",
        "Count_Insincere_Questions = len(train_data[train_data[\"target\"]==1]) \n",
        "Percentage_of_Sincere_Questions = Count_Sincere_Questions/(Count_Sincere_Questions+Count_Insincere_Questions)\n",
        "print(\"percentage of Sincere Questions is\",Percentage_of_Sincere_Questions*100)\n",
        "Percentage_of_Insincere_Questions= Count_Insincere_Questions/(Count_Sincere_Questions+Count_Insincere_Questions)\n",
        "print(\"percentage of Insincere Questions\",Percentage_of_Insincere_Questions*100)"
      ],
      "execution_count": 0,
      "outputs": [
        {
          "output_type": "stream",
          "text": [
            "percentage of Sincere Questions is 93.81298224821265\n",
            "percentage of Insincere Questions 6.187017751787352\n"
          ],
          "name": "stdout"
        }
      ]
    },
    {
      "cell_type": "code",
      "metadata": {
        "id": "GF63ity5549J",
        "colab_type": "code",
        "outputId": "307910f7-471d-4cce-c3f7-26fd21df47eb",
        "colab": {
          "base_uri": "https://localhost:8080/",
          "height": 204
        }
      },
      "source": [
        "train_data['word_count'] = train_data['question_text'].apply(lambda x: len(str(x).split(\" \")))\n",
        "train_data[['question_text','word_count']].head()\n"
      ],
      "execution_count": 0,
      "outputs": [
        {
          "output_type": "execute_result",
          "data": {
            "text/html": [
              "<div>\n",
              "<style scoped>\n",
              "    .dataframe tbody tr th:only-of-type {\n",
              "        vertical-align: middle;\n",
              "    }\n",
              "\n",
              "    .dataframe tbody tr th {\n",
              "        vertical-align: top;\n",
              "    }\n",
              "\n",
              "    .dataframe thead th {\n",
              "        text-align: right;\n",
              "    }\n",
              "</style>\n",
              "<table border=\"1\" class=\"dataframe\">\n",
              "  <thead>\n",
              "    <tr style=\"text-align: right;\">\n",
              "      <th></th>\n",
              "      <th>question_text</th>\n",
              "      <th>word_count</th>\n",
              "    </tr>\n",
              "  </thead>\n",
              "  <tbody>\n",
              "    <tr>\n",
              "      <th>0</th>\n",
              "      <td>How did Quebec nationalists see their province...</td>\n",
              "      <td>13</td>\n",
              "    </tr>\n",
              "    <tr>\n",
              "      <th>1</th>\n",
              "      <td>Do you have an adopted dog, how would you enco...</td>\n",
              "      <td>16</td>\n",
              "    </tr>\n",
              "    <tr>\n",
              "      <th>2</th>\n",
              "      <td>Why does velocity affect time? Does velocity a...</td>\n",
              "      <td>10</td>\n",
              "    </tr>\n",
              "    <tr>\n",
              "      <th>3</th>\n",
              "      <td>How did Otto von Guericke used the Magdeburg h...</td>\n",
              "      <td>9</td>\n",
              "    </tr>\n",
              "    <tr>\n",
              "      <th>4</th>\n",
              "      <td>Can I convert montra helicon D to a mountain b...</td>\n",
              "      <td>15</td>\n",
              "    </tr>\n",
              "  </tbody>\n",
              "</table>\n",
              "</div>"
            ],
            "text/plain": [
              "                                       question_text  word_count\n",
              "0  How did Quebec nationalists see their province...          13\n",
              "1  Do you have an adopted dog, how would you enco...          16\n",
              "2  Why does velocity affect time? Does velocity a...          10\n",
              "3  How did Otto von Guericke used the Magdeburg h...           9\n",
              "4  Can I convert montra helicon D to a mountain b...          15"
            ]
          },
          "metadata": {
            "tags": []
          },
          "execution_count": 74
        }
      ]
    },
    {
      "cell_type": "code",
      "metadata": {
        "id": "KLXYI7Un5_rR",
        "colab_type": "code",
        "outputId": "b96095d5-4a49-4aef-da82-29e24712e417",
        "colab": {
          "base_uri": "https://localhost:8080/",
          "height": 204
        }
      },
      "source": [
        "test_data['word_count'] = test_data['question_text'].apply(lambda x: len(str(x).split(\" \")))\n",
        "test_data[['question_text','word_count']].head()"
      ],
      "execution_count": 0,
      "outputs": [
        {
          "output_type": "execute_result",
          "data": {
            "text/html": [
              "<div>\n",
              "<style scoped>\n",
              "    .dataframe tbody tr th:only-of-type {\n",
              "        vertical-align: middle;\n",
              "    }\n",
              "\n",
              "    .dataframe tbody tr th {\n",
              "        vertical-align: top;\n",
              "    }\n",
              "\n",
              "    .dataframe thead th {\n",
              "        text-align: right;\n",
              "    }\n",
              "</style>\n",
              "<table border=\"1\" class=\"dataframe\">\n",
              "  <thead>\n",
              "    <tr style=\"text-align: right;\">\n",
              "      <th></th>\n",
              "      <th>question_text</th>\n",
              "      <th>word_count</th>\n",
              "    </tr>\n",
              "  </thead>\n",
              "  <tbody>\n",
              "    <tr>\n",
              "      <th>0</th>\n",
              "      <td>Why do so many women become so rude and arroga...</td>\n",
              "      <td>21</td>\n",
              "    </tr>\n",
              "    <tr>\n",
              "      <th>1</th>\n",
              "      <td>When should I apply for RV college of engineer...</td>\n",
              "      <td>30</td>\n",
              "    </tr>\n",
              "    <tr>\n",
              "      <th>2</th>\n",
              "      <td>What is it really like to be a nurse practitio...</td>\n",
              "      <td>10</td>\n",
              "    </tr>\n",
              "    <tr>\n",
              "      <th>3</th>\n",
              "      <td>Who are entrepreneurs?</td>\n",
              "      <td>3</td>\n",
              "    </tr>\n",
              "    <tr>\n",
              "      <th>4</th>\n",
              "      <td>Is education really making good people nowadays?</td>\n",
              "      <td>7</td>\n",
              "    </tr>\n",
              "  </tbody>\n",
              "</table>\n",
              "</div>"
            ],
            "text/plain": [
              "                                       question_text  word_count\n",
              "0  Why do so many women become so rude and arroga...          21\n",
              "1  When should I apply for RV college of engineer...          30\n",
              "2  What is it really like to be a nurse practitio...          10\n",
              "3                             Who are entrepreneurs?           3\n",
              "4   Is education really making good people nowadays?           7"
            ]
          },
          "metadata": {
            "tags": []
          },
          "execution_count": 75
        }
      ]
    },
    {
      "cell_type": "code",
      "metadata": {
        "id": "_83vt7GG6JDK",
        "colab_type": "code",
        "outputId": "eec67d18-221f-4c31-b826-15c4288b2bb7",
        "colab": {
          "base_uri": "https://localhost:8080/",
          "height": 204
        }
      },
      "source": [
        "train_data['char_count'] = train_data['question_text'].str.len() ## this also includes spaces\n",
        "train_data[['question_text','char_count']].head()"
      ],
      "execution_count": 0,
      "outputs": [
        {
          "output_type": "execute_result",
          "data": {
            "text/html": [
              "<div>\n",
              "<style scoped>\n",
              "    .dataframe tbody tr th:only-of-type {\n",
              "        vertical-align: middle;\n",
              "    }\n",
              "\n",
              "    .dataframe tbody tr th {\n",
              "        vertical-align: top;\n",
              "    }\n",
              "\n",
              "    .dataframe thead th {\n",
              "        text-align: right;\n",
              "    }\n",
              "</style>\n",
              "<table border=\"1\" class=\"dataframe\">\n",
              "  <thead>\n",
              "    <tr style=\"text-align: right;\">\n",
              "      <th></th>\n",
              "      <th>question_text</th>\n",
              "      <th>char_count</th>\n",
              "    </tr>\n",
              "  </thead>\n",
              "  <tbody>\n",
              "    <tr>\n",
              "      <th>0</th>\n",
              "      <td>How did Quebec nationalists see their province...</td>\n",
              "      <td>72</td>\n",
              "    </tr>\n",
              "    <tr>\n",
              "      <th>1</th>\n",
              "      <td>Do you have an adopted dog, how would you enco...</td>\n",
              "      <td>81</td>\n",
              "    </tr>\n",
              "    <tr>\n",
              "      <th>2</th>\n",
              "      <td>Why does velocity affect time? Does velocity a...</td>\n",
              "      <td>67</td>\n",
              "    </tr>\n",
              "    <tr>\n",
              "      <th>3</th>\n",
              "      <td>How did Otto von Guericke used the Magdeburg h...</td>\n",
              "      <td>57</td>\n",
              "    </tr>\n",
              "    <tr>\n",
              "      <th>4</th>\n",
              "      <td>Can I convert montra helicon D to a mountain b...</td>\n",
              "      <td>77</td>\n",
              "    </tr>\n",
              "  </tbody>\n",
              "</table>\n",
              "</div>"
            ],
            "text/plain": [
              "                                       question_text  char_count\n",
              "0  How did Quebec nationalists see their province...          72\n",
              "1  Do you have an adopted dog, how would you enco...          81\n",
              "2  Why does velocity affect time? Does velocity a...          67\n",
              "3  How did Otto von Guericke used the Magdeburg h...          57\n",
              "4  Can I convert montra helicon D to a mountain b...          77"
            ]
          },
          "metadata": {
            "tags": []
          },
          "execution_count": 76
        }
      ]
    },
    {
      "cell_type": "code",
      "metadata": {
        "id": "bShIE6o-6MSn",
        "colab_type": "code",
        "outputId": "45387db3-80fd-44db-8feb-f17b3060e4f6",
        "colab": {
          "base_uri": "https://localhost:8080/",
          "height": 204
        }
      },
      "source": [
        "test_data['char_count'] = test_data['question_text'].str.len() ## this also includes spaces\n",
        "test_data[['question_text','char_count']].head()"
      ],
      "execution_count": 0,
      "outputs": [
        {
          "output_type": "execute_result",
          "data": {
            "text/html": [
              "<div>\n",
              "<style scoped>\n",
              "    .dataframe tbody tr th:only-of-type {\n",
              "        vertical-align: middle;\n",
              "    }\n",
              "\n",
              "    .dataframe tbody tr th {\n",
              "        vertical-align: top;\n",
              "    }\n",
              "\n",
              "    .dataframe thead th {\n",
              "        text-align: right;\n",
              "    }\n",
              "</style>\n",
              "<table border=\"1\" class=\"dataframe\">\n",
              "  <thead>\n",
              "    <tr style=\"text-align: right;\">\n",
              "      <th></th>\n",
              "      <th>question_text</th>\n",
              "      <th>char_count</th>\n",
              "    </tr>\n",
              "  </thead>\n",
              "  <tbody>\n",
              "    <tr>\n",
              "      <th>0</th>\n",
              "      <td>Why do so many women become so rude and arroga...</td>\n",
              "      <td>101</td>\n",
              "    </tr>\n",
              "    <tr>\n",
              "      <th>1</th>\n",
              "      <td>When should I apply for RV college of engineer...</td>\n",
              "      <td>162</td>\n",
              "    </tr>\n",
              "    <tr>\n",
              "      <th>2</th>\n",
              "      <td>What is it really like to be a nurse practitio...</td>\n",
              "      <td>50</td>\n",
              "    </tr>\n",
              "    <tr>\n",
              "      <th>3</th>\n",
              "      <td>Who are entrepreneurs?</td>\n",
              "      <td>22</td>\n",
              "    </tr>\n",
              "    <tr>\n",
              "      <th>4</th>\n",
              "      <td>Is education really making good people nowadays?</td>\n",
              "      <td>48</td>\n",
              "    </tr>\n",
              "  </tbody>\n",
              "</table>\n",
              "</div>"
            ],
            "text/plain": [
              "                                       question_text  char_count\n",
              "0  Why do so many women become so rude and arroga...         101\n",
              "1  When should I apply for RV college of engineer...         162\n",
              "2  What is it really like to be a nurse practitio...          50\n",
              "3                             Who are entrepreneurs?          22\n",
              "4   Is education really making good people nowadays?          48"
            ]
          },
          "metadata": {
            "tags": []
          },
          "execution_count": 77
        }
      ]
    },
    {
      "cell_type": "code",
      "metadata": {
        "id": "FZ_ui33L6Qbv",
        "colab_type": "code",
        "outputId": "cf772a3f-13dd-42d5-ffc3-e2e1573f0e22",
        "colab": {
          "base_uri": "https://localhost:8080/",
          "height": 119
        }
      },
      "source": [
        "train_data['question_text'] = train_data['question_text'].apply(lambda x: \" \".join(x.lower() for x in x.split()))\n",
        "train_data['question_text'].head()"
      ],
      "execution_count": 0,
      "outputs": [
        {
          "output_type": "execute_result",
          "data": {
            "text/plain": [
              "0    how did quebec nationalists see their province...\n",
              "1    do you have an adopted dog, how would you enco...\n",
              "2    why does velocity affect time? does velocity a...\n",
              "3    how did otto von guericke used the magdeburg h...\n",
              "4    can i convert montra helicon d to a mountain b...\n",
              "Name: question_text, dtype: object"
            ]
          },
          "metadata": {
            "tags": []
          },
          "execution_count": 78
        }
      ]
    },
    {
      "cell_type": "code",
      "metadata": {
        "id": "IWtWIPsD6VC_",
        "colab_type": "code",
        "outputId": "f881cc4e-e701-4906-a25d-8a1d80dc6481",
        "colab": {
          "base_uri": "https://localhost:8080/",
          "height": 119
        }
      },
      "source": [
        "test_data['question_text'] = test_data['question_text'].apply(lambda x: \" \".join(x.lower() for x in x.split()))\n",
        "test_data['question_text'].head()"
      ],
      "execution_count": 0,
      "outputs": [
        {
          "output_type": "execute_result",
          "data": {
            "text/plain": [
              "0    why do so many women become so rude and arroga...\n",
              "1    when should i apply for rv college of engineer...\n",
              "2    what is it really like to be a nurse practitio...\n",
              "3                               who are entrepreneurs?\n",
              "4     is education really making good people nowadays?\n",
              "Name: question_text, dtype: object"
            ]
          },
          "metadata": {
            "tags": []
          },
          "execution_count": 79
        }
      ]
    },
    {
      "cell_type": "code",
      "metadata": {
        "id": "f_vBF2zT6af3",
        "colab_type": "code",
        "colab": {}
      },
      "source": [
        "from sklearn.metrics import confusion_matrix\n",
        "from mlxtend.plotting import plot_confusion_matrix\n",
        "import matplotlib.pyplot as plt\n",
        "import numpy as np\n",
        "import pylab as pl"
      ],
      "execution_count": 0,
      "outputs": []
    },
    {
      "cell_type": "code",
      "metadata": {
        "id": "yjj9Ev6H6wma",
        "colab_type": "code",
        "outputId": "91ef8862-8dec-46bd-b3d2-2cf436bebcf8",
        "colab": {
          "base_uri": "https://localhost:8080/",
          "height": 119
        }
      },
      "source": [
        "train_data['question_text'] = train_data['question_text'].str.replace('[^\\w\\s]','')\n",
        "train_data['question_text'].head()"
      ],
      "execution_count": 0,
      "outputs": [
        {
          "output_type": "execute_result",
          "data": {
            "text/plain": [
              "0    how did quebec nationalists see their province...\n",
              "1    do you have an adopted dog how would you encou...\n",
              "2    why does velocity affect time does velocity af...\n",
              "3    how did otto von guericke used the magdeburg h...\n",
              "4    can i convert montra helicon d to a mountain b...\n",
              "Name: question_text, dtype: object"
            ]
          },
          "metadata": {
            "tags": []
          },
          "execution_count": 81
        }
      ]
    },
    {
      "cell_type": "code",
      "metadata": {
        "id": "TJ15bf1G62yX",
        "colab_type": "code",
        "outputId": "3826191c-d9c3-4fe0-b702-f70a0bbb70a1",
        "colab": {
          "base_uri": "https://localhost:8080/",
          "height": 119
        }
      },
      "source": [
        "test_data['question_text'] = test_data['question_text'].str.replace('[^\\w\\s]','')\n",
        "test_data['question_text'].head()"
      ],
      "execution_count": 0,
      "outputs": [
        {
          "output_type": "execute_result",
          "data": {
            "text/plain": [
              "0    why do so many women become so rude and arroga...\n",
              "1    when should i apply for rv college of engineer...\n",
              "2    what is it really like to be a nurse practitioner\n",
              "3                                who are entrepreneurs\n",
              "4      is education really making good people nowadays\n",
              "Name: question_text, dtype: object"
            ]
          },
          "metadata": {
            "tags": []
          },
          "execution_count": 82
        }
      ]
    },
    {
      "cell_type": "code",
      "metadata": {
        "id": "8TvS6G1P67Gd",
        "colab_type": "code",
        "outputId": "fb0bbd7c-f7ac-4939-e681-a7b068d6e874",
        "colab": {
          "base_uri": "https://localhost:8080/",
          "height": 119
        }
      },
      "source": [
        "train_data['question_text'] = train_data['question_text'].str.replace('[^\\w\\s]','')\n",
        "train_data['question_text'].head()"
      ],
      "execution_count": 0,
      "outputs": [
        {
          "output_type": "execute_result",
          "data": {
            "text/plain": [
              "0    how did quebec nationalists see their province...\n",
              "1    do you have an adopted dog how would you encou...\n",
              "2    why does velocity affect time does velocity af...\n",
              "3    how did otto von guericke used the magdeburg h...\n",
              "4    can i convert montra helicon d to a mountain b...\n",
              "Name: question_text, dtype: object"
            ]
          },
          "metadata": {
            "tags": []
          },
          "execution_count": 83
        }
      ]
    },
    {
      "cell_type": "code",
      "metadata": {
        "id": "KCFCMmjp7ARC",
        "colab_type": "code",
        "outputId": "5a9eacca-798d-490c-bd12-e8723f362615",
        "colab": {
          "base_uri": "https://localhost:8080/",
          "height": 119
        }
      },
      "source": [
        "\n",
        "test_data['question_text'] = test_data['question_text'].str.replace('[^\\w\\s]','')\n",
        "test_data['question_text'].head()"
      ],
      "execution_count": 0,
      "outputs": [
        {
          "output_type": "execute_result",
          "data": {
            "text/plain": [
              "0    why do so many women become so rude and arroga...\n",
              "1    when should i apply for rv college of engineer...\n",
              "2    what is it really like to be a nurse practitioner\n",
              "3                                who are entrepreneurs\n",
              "4      is education really making good people nowadays\n",
              "Name: question_text, dtype: object"
            ]
          },
          "metadata": {
            "tags": []
          },
          "execution_count": 84
        }
      ]
    },
    {
      "cell_type": "code",
      "metadata": {
        "id": "2TbUL31V7HKZ",
        "colab_type": "code",
        "outputId": "1b8a01dc-2b93-460f-a087-e5c7fd382af3",
        "colab": {
          "base_uri": "https://localhost:8080/",
          "height": 119
        }
      },
      "source": [
        "freq = pd.Series(' '.join(train_data['question_text']).split()).value_counts()[-20:]\n",
        "freq\n",
        "freq = list(freq.index)\n",
        "train_data['question_text'] = train_data['question_text'].apply(lambda x: \" \".join(x for x in x.split() if x not in freq))\n",
        "train_data['question_text'].head()"
      ],
      "execution_count": 0,
      "outputs": [
        {
          "output_type": "execute_result",
          "data": {
            "text/plain": [
              "0    how did quebec nationalists see their province...\n",
              "1    do you have an adopted dog how would you encou...\n",
              "2    why does velocity affect time does velocity af...\n",
              "3    how did otto von guericke used the magdeburg h...\n",
              "4    can i convert montra helicon d to a mountain b...\n",
              "Name: question_text, dtype: object"
            ]
          },
          "metadata": {
            "tags": []
          },
          "execution_count": 85
        }
      ]
    },
    {
      "cell_type": "code",
      "metadata": {
        "id": "stG07dYH7MJV",
        "colab_type": "code",
        "outputId": "ebed2d03-a820-43d3-9032-db487f182d37",
        "colab": {
          "base_uri": "https://localhost:8080/",
          "height": 119
        }
      },
      "source": [
        "from textblob import TextBlob\n",
        "train_data['question_text'][:5].apply(lambda x: str(TextBlob(x).correct()))\n",
        "test_data['question_text'][:5].apply(lambda x: str(TextBlob(x).correct()))#"
      ],
      "execution_count": 0,
      "outputs": [
        {
          "output_type": "execute_result",
          "data": {
            "text/plain": [
              "0    why do so many women become so rude and arroga...\n",
              "1    when should i apply for re college of engineer...\n",
              "2    what is it really like to be a nurse practitioner\n",
              "3                                who are entrepreneurs\n",
              "4      is education really making good people nowadays\n",
              "Name: question_text, dtype: object"
            ]
          },
          "metadata": {
            "tags": []
          },
          "execution_count": 86
        }
      ]
    },
    {
      "cell_type": "code",
      "metadata": {
        "id": "tm-_XM-v7bsy",
        "colab_type": "code",
        "outputId": "e846e834-da63-45a2-8a6e-e3f2698138a5",
        "colab": {
          "base_uri": "https://localhost:8080/",
          "height": 119
        }
      },
      "source": [
        "from textblob import Word\n",
        "train_data['question_text'] = train_data['question_text'].apply(lambda x: \" \".join([Word(word).lemmatize() for word in x.split()]))\n",
        "train_data['question_text'].head()"
      ],
      "execution_count": 0,
      "outputs": [
        {
          "output_type": "execute_result",
          "data": {
            "text/plain": [
              "0    how did quebec nationalist see their province ...\n",
              "1    do you have an adopted dog how would you encou...\n",
              "2    why doe velocity affect time doe velocity affe...\n",
              "3    how did otto von guericke used the magdeburg h...\n",
              "4    can i convert montra helicon d to a mountain b...\n",
              "Name: question_text, dtype: object"
            ]
          },
          "metadata": {
            "tags": []
          },
          "execution_count": 87
        }
      ]
    },
    {
      "cell_type": "code",
      "metadata": {
        "id": "pMMz60ID7gKV",
        "colab_type": "code",
        "outputId": "7fb20ba5-3a3d-426e-efbb-3ae395748cda",
        "colab": {
          "base_uri": "https://localhost:8080/",
          "height": 119
        }
      },
      "source": [
        "test_data['question_text'] = test_data['question_text'].apply(lambda x: \" \".join([Word(word).lemmatize() for word in x.split()]))\n",
        "test_data['question_text'].head()"
      ],
      "execution_count": 0,
      "outputs": [
        {
          "output_type": "execute_result",
          "data": {
            "text/plain": [
              "0    why do so many woman become so rude and arroga...\n",
              "1    when should i apply for rv college of engineer...\n",
              "2    what is it really like to be a nurse practitioner\n",
              "3                                 who are entrepreneur\n",
              "4      is education really making good people nowadays\n",
              "Name: question_text, dtype: object"
            ]
          },
          "metadata": {
            "tags": []
          },
          "execution_count": 88
        }
      ]
    },
    {
      "cell_type": "code",
      "metadata": {
        "id": "f6s7SeqRAP4r",
        "colab_type": "code",
        "outputId": "1b5450bb-f680-49f3-f171-d8c21c8cf7d9",
        "colab": {
          "base_uri": "https://localhost:8080/",
          "height": 68
        }
      },
      "source": [
        "import nltk\n",
        "nltk.download('stopwords')"
      ],
      "execution_count": 0,
      "outputs": [
        {
          "output_type": "stream",
          "text": [
            "[nltk_data] Downloading package stopwords to /root/nltk_data...\n",
            "[nltk_data]   Package stopwords is already up-to-date!\n"
          ],
          "name": "stdout"
        },
        {
          "output_type": "execute_result",
          "data": {
            "text/plain": [
              "True"
            ]
          },
          "metadata": {
            "tags": []
          },
          "execution_count": 89
        }
      ]
    },
    {
      "cell_type": "code",
      "metadata": {
        "id": "ZyCFaoazAIdP",
        "colab_type": "code",
        "colab": {}
      },
      "source": [
        "# Import stopwords with nltk.\n",
        "from nltk.corpus import stopwords\n",
        "stop = stopwords.words('english')"
      ],
      "execution_count": 0,
      "outputs": []
    },
    {
      "cell_type": "code",
      "metadata": {
        "id": "OoRVTNz7_EDj",
        "colab_type": "code",
        "outputId": "f9ca4a1f-1bc3-4a2d-beed-a2ec52e8e388",
        "colab": {
          "base_uri": "https://localhost:8080/",
          "height": 119
        }
      },
      "source": [
        "test_data['question_text'] = test_data['question_text'].apply(lambda x: ' '.join([word for word in x.split() if word not in (stop)]))\n",
        "test_data['question_text'].head()"
      ],
      "execution_count": 0,
      "outputs": [
        {
          "output_type": "execute_result",
          "data": {
            "text/plain": [
              "0    many woman become rude arrogant get little bit...\n",
              "1    apply rv college engineering bm college engine...\n",
              "2                       really like nurse practitioner\n",
              "3                                         entrepreneur\n",
              "4         education really making good people nowadays\n",
              "Name: question_text, dtype: object"
            ]
          },
          "metadata": {
            "tags": []
          },
          "execution_count": 91
        }
      ]
    },
    {
      "cell_type": "code",
      "metadata": {
        "id": "g2oNxMwJ-Rti",
        "colab_type": "code",
        "outputId": "706a0d1f-01b1-4be2-c391-1e68613b178d",
        "colab": {
          "base_uri": "https://localhost:8080/",
          "height": 204
        }
      },
      "source": [
        "test_data.head()"
      ],
      "execution_count": 0,
      "outputs": [
        {
          "output_type": "execute_result",
          "data": {
            "text/html": [
              "<div>\n",
              "<style scoped>\n",
              "    .dataframe tbody tr th:only-of-type {\n",
              "        vertical-align: middle;\n",
              "    }\n",
              "\n",
              "    .dataframe tbody tr th {\n",
              "        vertical-align: top;\n",
              "    }\n",
              "\n",
              "    .dataframe thead th {\n",
              "        text-align: right;\n",
              "    }\n",
              "</style>\n",
              "<table border=\"1\" class=\"dataframe\">\n",
              "  <thead>\n",
              "    <tr style=\"text-align: right;\">\n",
              "      <th></th>\n",
              "      <th>qid</th>\n",
              "      <th>question_text</th>\n",
              "      <th>word_count</th>\n",
              "      <th>char_count</th>\n",
              "    </tr>\n",
              "  </thead>\n",
              "  <tbody>\n",
              "    <tr>\n",
              "      <th>0</th>\n",
              "      <td>0000163e3ea7c7a74cd7</td>\n",
              "      <td>many woman become rude arrogant get little bit...</td>\n",
              "      <td>21</td>\n",
              "      <td>101</td>\n",
              "    </tr>\n",
              "    <tr>\n",
              "      <th>1</th>\n",
              "      <td>00002bd4fb5d505b9161</td>\n",
              "      <td>apply rv college engineering bm college engine...</td>\n",
              "      <td>30</td>\n",
              "      <td>162</td>\n",
              "    </tr>\n",
              "    <tr>\n",
              "      <th>2</th>\n",
              "      <td>00007756b4a147d2b0b3</td>\n",
              "      <td>really like nurse practitioner</td>\n",
              "      <td>10</td>\n",
              "      <td>50</td>\n",
              "    </tr>\n",
              "    <tr>\n",
              "      <th>3</th>\n",
              "      <td>000086e4b7e1c7146103</td>\n",
              "      <td>entrepreneur</td>\n",
              "      <td>3</td>\n",
              "      <td>22</td>\n",
              "    </tr>\n",
              "    <tr>\n",
              "      <th>4</th>\n",
              "      <td>0000c4c3fbe8785a3090</td>\n",
              "      <td>education really making good people nowadays</td>\n",
              "      <td>7</td>\n",
              "      <td>48</td>\n",
              "    </tr>\n",
              "  </tbody>\n",
              "</table>\n",
              "</div>"
            ],
            "text/plain": [
              "                    qid                                      question_text  \\\n",
              "0  0000163e3ea7c7a74cd7  many woman become rude arrogant get little bit...   \n",
              "1  00002bd4fb5d505b9161  apply rv college engineering bm college engine...   \n",
              "2  00007756b4a147d2b0b3                     really like nurse practitioner   \n",
              "3  000086e4b7e1c7146103                                       entrepreneur   \n",
              "4  0000c4c3fbe8785a3090       education really making good people nowadays   \n",
              "\n",
              "   word_count  char_count  \n",
              "0          21         101  \n",
              "1          30         162  \n",
              "2          10          50  \n",
              "3           3          22  \n",
              "4           7          48  "
            ]
          },
          "metadata": {
            "tags": []
          },
          "execution_count": 92
        }
      ]
    },
    {
      "cell_type": "markdown",
      "metadata": {
        "id": "s4oq41Yu8pdI",
        "colab_type": "text"
      },
      "source": [
        "Undersampling"
      ]
    },
    {
      "cell_type": "code",
      "metadata": {
        "id": "zmMqVivk8Sfb",
        "colab_type": "code",
        "outputId": "e8c96c42-ccf1-49ce-f0b9-fc6c3171292f",
        "colab": {
          "base_uri": "https://localhost:8080/",
          "height": 51
        }
      },
      "source": [
        "# now let us check in the number of Percentage\n",
        "Count_Sincere_Questions = len(train_data[train_data[\"target\"]==0]) \n",
        "Count_Insincere_Questions = len(train_data[train_data[\"target\"]==1]) \n",
        "Percentage_of_Sincere_Questions = Count_Sincere_Questions/(Count_Sincere_Questions+Count_Insincere_Questions)\n",
        "print(\"percentage of Sincere Questions is\",Percentage_of_Sincere_Questions*100)\n",
        "Percentage_of_Insincere_Questions= Count_Insincere_Questions/(Count_Sincere_Questions+Count_Insincere_Questions)\n",
        "print(\"percentage of Insincere Questions\",Percentage_of_Insincere_Questions*100)"
      ],
      "execution_count": 0,
      "outputs": [
        {
          "output_type": "stream",
          "text": [
            "percentage of Sincere Questions is 93.81298224821265\n",
            "percentage of Insincere Questions 6.187017751787352\n"
          ],
          "name": "stdout"
        }
      ]
    },
    {
      "cell_type": "code",
      "metadata": {
        "id": "7K7UaHkY9AUR",
        "colab_type": "code",
        "colab": {}
      },
      "source": [
        "insincere_indices= np.array(train_data[train_data.target==1].index)\n",
        "normal_indices = np.array(train_data[train_data.target==0].index)\n",
        "#now let us a define a function for make undersample data with different proportion\n",
        "#different proportion means with different proportion of normal classes of data\n",
        "def undersample(normal_indices,insincere_indices,times):#times denote the Sincere_Data = times*Insincere_Data\n",
        "    Normal_indices_undersample = np.array(np.random.choice(normal_indices,(times*Count_Insincere_Questions),replace=False))\n",
        "    print(len(Normal_indices_undersample))\n",
        "    undersample_data= np.concatenate([insincere_indices,Normal_indices_undersample])\n",
        "\n",
        "    undersample_data = train_data.iloc[undersample_data,:]\n",
        "    #print(undersample_data)\n",
        "    print(len(undersample_data))\n",
        "\n",
        "    print(\"the sincere questions proportion is :\",len(undersample_data[undersample_data.target==0])/len(undersample_data))\n",
        "    print(\"the insincere questions proportion is :\",len(undersample_data[undersample_data.target==1])/len(undersample_data))\n",
        "    print(\"total number of record in resampled data is:\",len(undersample_data))\n",
        "    return(undersample_data)"
      ],
      "execution_count": 0,
      "outputs": []
    },
    {
      "cell_type": "code",
      "metadata": {
        "id": "qjm46eOo9EEi",
        "colab_type": "code",
        "outputId": "81952bdf-8343-4403-9ec3-7d93b6d95d54",
        "colab": {
          "base_uri": "https://localhost:8080/",
          "height": 102
        }
      },
      "source": [
        "Undersample_data = undersample(normal_indices,insincere_indices,9)"
      ],
      "execution_count": 0,
      "outputs": [
        {
          "output_type": "stream",
          "text": [
            "727290\n",
            "808100\n",
            "the sincere questions proportion is : 0.9\n",
            "the insincere questions proportion is : 0.1\n",
            "total number of record in resampled data is: 808100\n"
          ],
          "name": "stdout"
        }
      ]
    },
    {
      "cell_type": "code",
      "metadata": {
        "id": "0j3crPi-9IKF",
        "colab_type": "code",
        "outputId": "9c08f3b5-11c9-49c0-9845-7538fe700317",
        "colab": {
          "base_uri": "https://localhost:8080/",
          "height": 187
        }
      },
      "source": [
        "Undersample_data.info()"
      ],
      "execution_count": 0,
      "outputs": [
        {
          "output_type": "stream",
          "text": [
            "<class 'pandas.core.frame.DataFrame'>\n",
            "Int64Index: 808100 entries, 22 to 1274031\n",
            "Data columns (total 5 columns):\n",
            "qid              808100 non-null object\n",
            "question_text    808100 non-null object\n",
            "target           808100 non-null int64\n",
            "word_count       808100 non-null int64\n",
            "char_count       808100 non-null int64\n",
            "dtypes: int64(3), object(2)\n",
            "memory usage: 37.0+ MB\n"
          ],
          "name": "stdout"
        }
      ]
    },
    {
      "cell_type": "code",
      "metadata": {
        "id": "B9PKP7lu9NjH",
        "colab_type": "code",
        "colab": {}
      },
      "source": [
        "Undersample_data = Undersample_data.reset_index()\n",
        "train_text = Undersample_data['question_text']\n",
        "test_text = test_data['question_text']\n",
        "train_target = Undersample_data['target']\n",
        "all_text = train_text.append(test_text)"
      ],
      "execution_count": 0,
      "outputs": []
    },
    {
      "cell_type": "code",
      "metadata": {
        "id": "3Mur1k4H-OdG",
        "colab_type": "code",
        "colab": {}
      },
      "source": [
        "#fit and transform\n",
        "\n",
        "tfidf_vectorizer = TfidfVectorizer()\n",
        "tfidf_vectorizer.fit(all_text)\n",
        "\n",
        "count_vectorizer = CountVectorizer()\n",
        "count_vectorizer.fit(all_text)\n",
        "\n",
        "train_text_features_cv = count_vectorizer.transform(train_text)\n",
        "test_text_features_cv = count_vectorizer.transform(test_text)\n",
        "\n",
        "train_text_features_tf = tfidf_vectorizer.transform(train_text)\n",
        "test_text_features_tf = tfidf_vectorizer.transform(test_text)"
      ],
      "execution_count": 0,
      "outputs": []
    },
    {
      "cell_type": "code",
      "metadata": {
        "id": "GcPIwssa-rfZ",
        "colab_type": "code",
        "outputId": "1169a8a9-0b88-4950-f541-86ce60b16d32",
        "colab": {
          "base_uri": "https://localhost:8080/",
          "height": 357
        }
      },
      "source": [
        "kfold = KFold(n_splits = 5, shuffle = True, random_state = 2018)\n",
        "test_preds1 = 0\n",
        "oof_preds1 = np.zeros([Undersample_data.shape[0],])\n",
        "test_preds2 = 0\n",
        "oof_preds2 = np.zeros([Undersample_data.shape[0],])\n",
        "\n",
        "\n",
        "\n",
        "for i, (train_idx, valid_idx) in enumerate(kfold.split(Undersample_data)):\n",
        "    x_train, x_valid = train_text_features_cv[train_idx,:],train_text_features_cv[valid_idx,:]\n",
        "    y_train, y_valid = train_target[train_idx], train_target[valid_idx]\n",
        "    classifier1 = MultinomialNB()\n",
        "    classifier2 = BernoulliNB()\n",
        "    print('fitting.......')\n",
        "    classifier1.fit(x_train,y_train)\n",
        "    classifier2.fit(x_train,y_train)\n",
        "    print('predicting......')\n",
        "    print('\\n')\n",
        "    \n",
        "    oof_preds1[valid_idx] = classifier1.predict_proba(x_valid)[:,1]\n",
        "    test_preds1 += 0.2*classifier1.predict_proba(test_text_features_cv)[:,1]\n",
        "    oof_preds2[valid_idx] = classifier2.predict_proba(x_valid)[:,1]\n",
        "    test_preds2 += 0.2*classifier2.predict_proba(test_text_features_cv)[:,1]"
      ],
      "execution_count": 0,
      "outputs": [
        {
          "output_type": "stream",
          "text": [
            "fitting.......\n",
            "predicting......\n",
            "\n",
            "\n",
            "fitting.......\n",
            "predicting......\n",
            "\n",
            "\n",
            "fitting.......\n",
            "predicting......\n",
            "\n",
            "\n",
            "fitting.......\n",
            "predicting......\n",
            "\n",
            "\n",
            "fitting.......\n",
            "predicting......\n",
            "\n",
            "\n"
          ],
          "name": "stdout"
        }
      ]
    },
    {
      "cell_type": "code",
      "metadata": {
        "id": "f3UCwQJw-74u",
        "colab_type": "code",
        "outputId": "dd2b71ff-baca-40bd-b564-e5ff6c53840c",
        "colab": {
          "base_uri": "https://localhost:8080/",
          "height": 34
        }
      },
      "source": [
        "pred_train = (oof_preds1 > .3).astype(np.int)\n",
        "f1_score(train_target, pred_train)"
      ],
      "execution_count": 0,
      "outputs": [
        {
          "output_type": "execute_result",
          "data": {
            "text/plain": [
              "0.6152523824039418"
            ]
          },
          "metadata": {
            "tags": []
          },
          "execution_count": 114
        }
      ]
    },
    {
      "cell_type": "code",
      "metadata": {
        "id": "AXHggz1cF8rR",
        "colab_type": "code",
        "colab": {}
      },
      "source": [
        "from sklearn.metrics import confusion_matrix\n",
        "from mlxtend.plotting import plot_confusion_matrix\n",
        "import matplotlib.pyplot as plt\n",
        "import numpy as np\n",
        "import pylab as pl\n",
        "\n",
        "cm = confusion_matrix(train_target,pred_train)\n"
      ],
      "execution_count": 0,
      "outputs": []
    },
    {
      "cell_type": "code",
      "metadata": {
        "id": "hjqARa5NGOny",
        "colab_type": "code",
        "outputId": "94d77281-903a-464a-f141-3aed4a4c8735",
        "colab": {
          "base_uri": "https://localhost:8080/",
          "height": 51
        }
      },
      "source": [
        "cm"
      ],
      "execution_count": 0,
      "outputs": [
        {
          "output_type": "execute_result",
          "data": {
            "text/plain": [
              "array([[669547,  57743],\n",
              "       [ 19250,  61560]])"
            ]
          },
          "metadata": {
            "tags": []
          },
          "execution_count": 116
        }
      ]
    },
    {
      "cell_type": "code",
      "metadata": {
        "id": "Wwc5pGvPF94I",
        "colab_type": "code",
        "outputId": "72d9bc88-e386-4c5f-9e4f-0ff99edcc660",
        "colab": {
          "base_uri": "https://localhost:8080/",
          "height": 281
        }
      },
      "source": [
        "binary = np.array(cm)\n",
        "ax = plot_confusion_matrix(conf_mat=binary,show_absolute=True,\n",
        "                                show_normed=True,\n",
        "                                colorbar=True)\n",
        "plt.show()"
      ],
      "execution_count": 0,
      "outputs": [
        {
          "output_type": "display_data",
          "data": {
            "image/png": "[encoded data removed]",
            "text/plain": [
              "<Figure size 432x288 with 2 Axes>"
            ]
          },
          "metadata": {
            "tags": []
          }
        }
      ]
    },
    {
      "cell_type": "code",
      "metadata": {
        "id": "iIoiFcbB_O2N",
        "colab_type": "code",
        "outputId": "07439e58-a9f2-4e04-8c70-e85ada6d66e7",
        "colab": {
          "base_uri": "https://localhost:8080/",
          "height": 34
        }
      },
      "source": [
        "pred_train = (oof_preds2 > .3).astype(np.int)\n",
        "f1_score(train_target, pred_train)"
      ],
      "execution_count": 0,
      "outputs": [
        {
          "output_type": "execute_result",
          "data": {
            "text/plain": [
              "0.6026146573163355"
            ]
          },
          "metadata": {
            "tags": []
          },
          "execution_count": 118
        }
      ]
    },
    {
      "cell_type": "code",
      "metadata": {
        "id": "mAPgIHFk_WgU",
        "colab_type": "code",
        "colab": {}
      },
      "source": [
        "from sklearn.metrics import confusion_matrix\n",
        "from mlxtend.plotting import plot_confusion_matrix\n",
        "import matplotlib.pyplot as plt\n",
        "import numpy as np\n",
        "import pylab as pl\n",
        "\n",
        "cm = confusion_matrix(train_target,pred_train)\n",
        "\n"
      ],
      "execution_count": 0,
      "outputs": []
    },
    {
      "cell_type": "code",
      "metadata": {
        "id": "LM09zYvFE5jx",
        "colab_type": "code",
        "outputId": "00ca75f3-765c-4788-c80f-ced384ac8ece",
        "colab": {
          "base_uri": "https://localhost:8080/",
          "height": 51
        }
      },
      "source": [
        "cm"
      ],
      "execution_count": 0,
      "outputs": [
        {
          "output_type": "execute_result",
          "data": {
            "text/plain": [
              "array([[683361,  43929],\n",
              "       [ 27017,  53793]])"
            ]
          },
          "metadata": {
            "tags": []
          },
          "execution_count": 120
        }
      ]
    },
    {
      "cell_type": "code",
      "metadata": {
        "id": "WVYnSJKSDtIx",
        "colab_type": "code",
        "outputId": "f92d3d92-c408-4f42-bde2-c8a8a842b8cd",
        "colab": {
          "base_uri": "https://localhost:8080/",
          "height": 281
        }
      },
      "source": [
        "binary = np.array(cm)\n",
        "ax = plot_confusion_matrix(conf_mat=binary,show_absolute=True,\n",
        "                                show_normed=True,\n",
        "                                colorbar=True)\n",
        "plt.show()"
      ],
      "execution_count": 0,
      "outputs": [
        {
          "output_type": "display_data",
          "data": {
            "image/png": "[encoded data removed]",
            "text/plain": [
              "<Figure size 432x288 with 2 Axes>"
            ]
          },
          "metadata": {
            "tags": []
          }
        }
      ]
    }
  ]
}